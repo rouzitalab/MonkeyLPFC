{
 "cells": [
  {
   "cell_type": "markdown",
   "metadata": {
    "colab_type": "text",
    "id": "CJWDCdw-DXK-"
   },
   "source": [
    "<table class=\"tfo-notebook-buttons\" align=\"left\">\n",
    "  <td>\n",
    "    <a target=\"_blank\" href=\"https://colab.research.google.com/github/SachsLab/MonkeyPFCSaccadeStudies/blob/master/StudyLocationRule/Analysis/04_analyze_target_CNN.ipynb\"><img src=\"https://www.tensorflow.org/images/colab_logo_32px.png\" />Run in Google Colab</a>\n",
    "  </td>\n",
    "  <td>\n",
    "    <a target=\"_blank\" href=\"https://github.com/SachsLab/IMonkeyPFCSaccadeStudies/blob/master/StudyLocationRule/Analysis/04_analyze_target_CNN.ipynb\"><img src=\"https://www.tensorflow.org/images/GitHub-Mark-32px.png\" />View source on GitHub</a>\n",
    "  </td>\n",
    "</table>"
   ]
  },
  {
   "cell_type": "markdown",
   "metadata": {
    "colab_type": "text",
    "id": "Lnt_1_ellnIY",
    "pycharm": {
     "name": "#%% md\n"
    }
   },
   "source": [
    "# Macaque PFC Microelectrode Spike Rates - Convolutional Neural Networks Using AutoEncoder"
   ]
  },
  {
   "cell_type": "markdown",
   "metadata": {},
   "source": [
    "## Setup"
   ]
  },
  {
   "cell_type": "markdown",
   "metadata": {
    "pycharm": {
     "name": "#%% md\n"
    }
   },
   "source": [
    "### Environment Setup\n",
    "Run the cells in this section to configure the local or Google Colab environments."
   ]
  },
  {
   "cell_type": "code",
   "execution_count": 1,
   "metadata": {
    "pycharm": {
     "is_executing": false,
     "name": "#%%\n"
    }
   },
   "outputs": [],
   "source": [
    "%load_ext autoreload\n",
    "%autoreload 2"
   ]
  },
  {
   "cell_type": "code",
   "execution_count": 2,
   "metadata": {
    "colab": {
     "base_uri": "https://localhost:8080/",
     "height": 728
    },
    "colab_type": "code",
    "id": "yGrxqTomlnIc",
    "outputId": "2137da9c-943e-4878-f2e9-c07e983a35ee",
    "pycharm": {
     "is_executing": false
    }
   },
   "outputs": [],
   "source": [
    "from pathlib import Path\n",
    "import os\n",
    "import sys\n",
    "\n",
    "try:\n",
    "    from google.colab import files\n",
    "    %tensorflow_version 2.x  # Only on colab\n",
    "    os.chdir('..')\n",
    "    \n",
    "    if not (Path.home() / '.kaggle').is_dir():\n",
    "        # Configure kaggle\n",
    "        uploaded = files.upload()  # Find the kaggle.json file in your ~/.kaggle directory.\n",
    "        if 'kaggle.json' in uploaded.keys():\n",
    "            !mkdir -p ~/.kaggle\n",
    "            !mv kaggle.json ~/.kaggle/\n",
    "            !chmod 600 ~/.kaggle/kaggle.json\n",
    "    \n",
    "    !pip install git+https://github.com/SachsLab/indl.git\n",
    "    \n",
    "    if Path.cwd().stem == 'MonkeyPFCSaccadeStudies':\n",
    "        os.chdir(Path.cwd().parent)\n",
    "\n",
    "    if not (Path.cwd() / 'MonkeyPFCSaccadeStudies').is_dir():\n",
    "        !git clone --single-branch --recursive https://github.com/SachsLab/MonkeyPFCSaccadeStudies.git\n",
    "        sys.path.append(str(Path.cwd() / 'MonkeyPFCSaccadeStudies'))\n",
    "    os.chdir('MonkeyPFCSaccadeStudies')\n",
    "    \n",
    "    !pip install -q kaggle\n",
    "    !pip install -U scikit-learn\n",
    "    IN_COLAB = True\n",
    "except ModuleNotFoundError:\n",
    "    import sys\n",
    "    \n",
    "    # chdir to MonkeyPFCSaccadeStudies\n",
    "    if Path.cwd().stem == 'Analysis':\n",
    "        os.chdir(Path.cwd().parent.parent)\n",
    "    \n",
    "    # Add indl repository to path.\n",
    "    # Eventually this should already be pip installed, but it's still under heavy development so this is easier for now.\n",
    "    check_dir = Path.cwd()\n",
    "    while not (check_dir / 'Tools').is_dir():\n",
    "        check_dir = check_dir / '..'\n",
    "    indl_path = check_dir / 'Tools' / 'Neurophys' / 'indl'\n",
    "    sys.path.append(str(indl_path))\n",
    "    \n",
    "    # Make sure the kaggle executable is on the PATH\n",
    "    os.environ['PATH'] = os.environ['PATH'] + ';' + str(Path(sys.executable).parent / 'Scripts')\n",
    "    \n",
    "    IN_COLAB = False\n",
    "\n",
    "# Try to clear any logs from previous runs\n",
    "if (Path.cwd() / 'logs').is_dir():\n",
    "    import shutil\n",
    "    try:\n",
    "        shutil.rmtree(str(Path.cwd() / 'logs'))\n",
    "    except PermissionError:\n",
    "        print(\"Unable to remove logs directory.\")"
   ]
  },
  {
   "cell_type": "code",
   "execution_count": 3,
   "metadata": {
    "pycharm": {
     "is_executing": false,
     "name": "#%% \n"
    }
   },
   "outputs": [],
   "source": [
    "# Additional imports\n",
    "import tensorflow as tf\n",
    "import tensorflow_probability as tfp\n",
    "import numpy as np\n",
    "import random\n",
    "import matplotlib.pyplot as plt\n",
    "from indl.display import turbo_cmap"
   ]
  },
  {
   "cell_type": "code",
   "execution_count": 4,
   "metadata": {
    "pycharm": {
     "is_executing": false,
     "name": "#%%\n"
    }
   },
   "outputs": [],
   "source": [
    "# Configure plotting defaults.\n",
    "if IN_COLAB:\n",
    "    plt.style.use('dark_background')\n",
    "plt.rcParams.update({\n",
    "    'axes.titlesize': 24,\n",
    "    'axes.labelsize': 20,\n",
    "    'lines.linewidth': 2,\n",
    "    'lines.markersize': 5,\n",
    "    'xtick.labelsize': 16,\n",
    "    'ytick.labelsize': 16,\n",
    "    'legend.fontsize': 18,\n",
    "    'figure.figsize': (6.4, 6.4)\n",
    "})"
   ]
  },
  {
   "cell_type": "markdown",
   "metadata": {
    "pycharm": {
     "name": "#%% md\n"
    }
   },
   "source": [
    "### Download data if necessary"
   ]
  },
  {
   "cell_type": "code",
   "execution_count": 5,
   "metadata": {
    "colab": {
     "base_uri": "https://localhost:8080/",
     "height": 85
    },
    "colab_type": "code",
    "id": "ltlcRrJLlnIh",
    "outputId": "50951495-4454-41e1-c452-3217b95f5674",
    "pycharm": {
     "is_executing": false,
     "name": "#%%\n"
    }
   },
   "outputs": [
    {
     "name": "stdout",
     "output_type": "stream",
     "text": [
      "Data directory found. Skipping download.\n"
     ]
    }
   ],
   "source": [
    "if IN_COLAB:\n",
    "    data_path = Path.cwd() / 'data' / 'monkey_pfc' / 'converted'\n",
    "else:\n",
    "    data_path = Path.cwd() / 'StudyLocationRule' / 'Data' / 'Preprocessed'\n",
    "\n",
    "if not (data_path).is_dir():\n",
    "    !kaggle datasets download --unzip --path {str(data_path)} cboulay/macaque-8a-spikes-rates-and-saccades\n",
    "    print(\"Finished downloading and extracting data.\")\n",
    "else:\n",
    "    print(\"Data directory found. Skipping download.\")"
   ]
  },
  {
   "cell_type": "markdown",
   "metadata": {},
   "source": [
    "### Prepare to load data\n",
    "\n",
    "We will use a custom function load_macaque_pfc to load the data into memory.\n",
    "\n",
    "There are 4 different strings to be passed to the import x_chunk argument:\n",
    "* 'analogsignals' - if present. Returns 1 kHz LFPs\n",
    "* 'gaze' - Returns 2-channel gaze data.\n",
    "* 'spikerates' - Returns smoothed spikerates\n",
    "* 'spiketrains'\n",
    "\n",
    "The y_type argument can be\n",
    "* 'pair and choice' - returns Y as np.array of (target_pair, choice_within_pair)\n",
    "* 'encoded input' - returns Y as np.array of shape (n_samples, 10) (explained below)\n",
    "* 'replace with column name' - returns Y as a vector of per-trial values. e.g., 'sacClass'\n",
    "\n",
    "The actual data we load depends on the particular analysis."
   ]
  },
  {
   "cell_type": "code",
   "execution_count": 6,
   "metadata": {
    "pycharm": {
     "is_executing": false
    }
   },
   "outputs": [],
   "source": [
    "from misc.misc import load_macaque_pfc, sess_infos\n",
    "\n",
    "load_kwargs = {\n",
    "    'valid_outcomes': (0, 9),  # Use (0, 9) to include trials with incorrect behaviour\n",
    "    'zscore': True,\n",
    "    'dprime_range': (-np.inf, np.inf),  # Use (-np.inf, np.inf) to include all trials.\n",
    "    'time_range': (-np.inf, np.inf),\n",
    "    'verbose': True,\n",
    "    'y_type': 'sacClass',  # Integer 0:7 for 8 different targets.\n",
    "    'samples_last': True  # Our EEGNet blocks expect time-samples in the last dimension.\n",
    "}"
   ]
  },
  {
   "cell_type": "markdown",
   "metadata": {
    "pycharm": {
     "name": "#%% md\n"
    }
   },
   "source": [
    "## Autoencoder of spike rates"
   ]
  },
  {
   "cell_type": "markdown",
   "metadata": {},
   "source": [
    "### Load Data\n",
    "\n",
    "Load the per-trial spikerates and saccadeClass (0:7)"
   ]
  },
  {
   "cell_type": "code",
   "execution_count": 7,
   "metadata": {
    "pycharm": {
     "is_executing": false,
     "name": "#%%\n"
    }
   },
   "outputs": [
    {
     "name": "stdout",
     "output_type": "stream",
     "text": [
      "\n",
      "Importing session sra3_1_j_050_00+\n",
      "Found 663 trials, 207 timestamps(-0.25 to 1.81 at 100.0 Hz), 32 channels\n",
      "Returning Y as sacClass with shape (663, 1).\n",
      "Axis info has: dict_keys(['instance_data', 'instance_times', 'fs', 'timestamps', 'channel_names', 'channel_locs'])\n"
     ]
    }
   ],
   "source": [
    "test_sess_ix = 1\n",
    "sess_info = sess_infos[test_sess_ix]\n",
    "sess_id = sess_info['exp_code']\n",
    "print(f\"\\nImporting session {sess_id}\")\n",
    "X_rates, Y_class, ax_info = load_macaque_pfc(data_path, sess_id, x_chunk='spikerates', **load_kwargs)\n",
    "Y_class = tf.keras.utils.to_categorical(Y_class, num_classes=8)"
   ]
  },
  {
   "cell_type": "markdown",
   "metadata": {
    "colab": {},
    "colab_type": "code",
    "id": "MkP-59rTyK42",
    "outputId": "d49772ea-d2b5-4a65-a20b-ae41882ed584"
   },
   "source": [
    "### Create Model\n",
    "\n",
    "Our model objective is to encode the timeseries segments into a latent variable, then decode the original timeseries segments from the latent variable.\n",
    "\n",
    "Let's start with a function to make the model:"
   ]
  },
  {
   "cell_type": "code",
   "execution_count": 65,
   "metadata": {
    "pycharm": {
     "is_executing": false
    }
   },
   "outputs": [],
   "source": [
    "from indl.model import parts\n",
    "from indl.model.helper import check_inputs\n",
    "from indl.regularizers import KernelLengthRegularizer\n",
    "from tensorflow.keras import layers\n",
    "from tensorflow.keras.constraints import max_norm\n",
    "import math\n",
    "\n",
    "\n",
    "@check_inputs\n",
    "def make_model(\n",
    "        _input,\n",
    "        F1=8, kernLength=25, F1_kern_reg=None,\n",
    "        D=2, D_pooling=4,\n",
    "        F2=8, F2_kernLength=16,\n",
    "        F2_pooling=8,\n",
    "        dropoutRate=0.25,\n",
    "        activation='elu',\n",
    "        l1_reg=0.000, l2_reg=0.000,\n",
    "        norm_rate=0.25,\n",
    "        latent_dim=16,\n",
    "        return_model=True\n",
    "    ):\n",
    "    \n",
    "    if F1_kern_reg is None:\n",
    "        F1_kern_reg = tf.keras.regularizers.l1_l2(l1=l1_reg, l2=l2_reg)\n",
    "    elif isinstance(F1_kern_reg, str) and F1_kern_reg == 'kern_length_regu':\n",
    "        F1_kern_reg = KernelLengthRegularizer((1, kernLength),\n",
    "                                              window_scale=1e-4,\n",
    "                                              window_func='poly',\n",
    "                                              poly_exp=2,\n",
    "                                              threshold=0.0015)\n",
    "        \n",
    "    prior = tfp.distributions.Independent(tfp.distributions.Normal(loc=tf.zeros(latent_dim), scale=1),\n",
    "                                          reinterpreted_batch_ndims=1)\n",
    "        \n",
    "    if False:\n",
    "        # EEGNetEnc \n",
    "        _y = parts.EEGNetEnc(_input,\n",
    "                             F1=F1,\n",
    "                             F1_kernLength=kernLength,\n",
    "                             F1_kern_reg=F1_kern_reg,\n",
    "                             D=D,\n",
    "                             D_pooling=D_pooling,\n",
    "                             F2=F2,\n",
    "                             F2_pooling=F2_pooling,\n",
    "                             F2_kernLength=F2_kernLength,\n",
    "                             dropoutRate=dropoutRate,\n",
    "                             activation=activation,\n",
    "                             l1_reg=l1_reg, l2_reg=l2_reg)\n",
    "\n",
    "        # Restore time-dimension that was stripped out by EEGNetEnc\n",
    "        n_times_after_conv = _input.shape.as_list()[2] // D_pooling // F2_pooling\n",
    "        _y = layers.Reshape((1, n_times_after_conv, F2))(_y)\n",
    "\n",
    "        mv_distr_dim = tfp.layers.MultivariateNormalTriL.params_size(latent_dim)\n",
    "        _y = parts.Bottleneck(_y, latent_dim=mv_distr_dim, dropoutRate=0, activation=None)\n",
    "        _y = tfp.layers.MultivariateNormalTriL(latent_dim,\n",
    "                                           activity_regularizer=tfp.layers.KLDivergenceRegularizer(prior)\n",
    "                                          )(_y)\n",
    "\n",
    "        # Undo bottleneck\n",
    "        _x = parts.UndoBottleneck(_y, target_shape=(1, n_times_after_conv, F2),\n",
    "                                  dropoutRate=dropoutRate,\n",
    "                                  activation=activation, return_model=False)\n",
    "\n",
    "        _x = parts.EEGNetDecodeA(_x, F1=F1, D=D,\n",
    "                                 F2_kernLength=F2_kernLength,\n",
    "                                 F2_pooling=F2_pooling,\n",
    "                                 activation=activation,\n",
    "                                 dropoutRate=dropoutRate,\n",
    "                                 l1_reg=l1_reg, l2_reg=l2_reg,\n",
    "                                 return_model=False)\n",
    "\n",
    "        n_times_after_DecA = _input.shape.as_list()[2] // D_pooling // F2_pooling * F2_pooling\n",
    "        targ_time_dim = _input.shape.as_list()[2] // D_pooling\n",
    "        total_padding = max(0, targ_time_dim - n_times_after_DecA)\n",
    "        padding_tuple = (int(math.ceil(total_padding / 2)), total_padding // 2)\n",
    "        _x = layers.ZeroPadding2D((0, padding_tuple))(_x)\n",
    "\n",
    "        _x = parts.EEGNetDecodeB(_x, num_chans=_input.shape.as_list()[1],\n",
    "                                 D_pooling=D_pooling,\n",
    "                                 F1=F1, F1_kernLength=kernLength,\n",
    "                                 activation=activation,\n",
    "                                 dropoutRate=dropoutRate,\n",
    "                                 l1_reg=l1_reg, l2_reg=l2_reg,\n",
    "                                 return_model=False)\n",
    "\n",
    "        n_times_after_DecB = _input.shape.as_list()[2] // D_pooling * D_pooling\n",
    "        total_padding = max(0, _input.shape.as_list()[2] - n_times_after_DecB)\n",
    "        padding_tuple = (int(math.ceil(total_padding / 2)), total_padding // 2)\n",
    "        _x = layers.ZeroPadding2D((0, padding_tuple))(_x)\n",
    "\n",
    "        # Final Conv\n",
    "        _x = layers.Conv2D(1, (1, kernLength), padding='same',\n",
    "                           kernel_regularizer=F1_kern_reg)(_x)\n",
    "        _x = layers.Activation(activation)(_x)\n",
    "        _x = layers.BatchNormalization(axis=-1)(_x)\n",
    "        _x = layers.Dropout(dropoutRate)(_x)\n",
    "\n",
    "        _x = layers.Reshape(target_shape=_input.shape.as_list()[1:])(_x)\n",
    "        \n",
    "    else:\n",
    "        \n",
    "        depth_regu = tf.keras.regularizers.l1_l2(l1=l1_reg, l2=l2_reg)\n",
    "        \n",
    "        input_shape = _input.shape.as_list()\n",
    "        num_chans = input_shape[1]\n",
    "        num_samps = input_shape[2]\n",
    "        \n",
    "        # Usually the filter dimension does not exist so let's add that.\n",
    "        if len(input_shape) < 4:\n",
    "            input_shape = input_shape + [1]\n",
    "        # input_shape[2] = -1  # Comment out during debug\n",
    "        _y = layers.Reshape(input_shape[1:])(_input)  # Note that Reshape ignores the batch dimension.\n",
    "        \n",
    "        _y = layers.Conv2D(F1, (1, kernLength),\n",
    "                           padding='same',\n",
    "                           kernel_regularizer=F1_kern_reg,\n",
    "                           activation=activation,\n",
    "                           # use_bias=False\n",
    "                           )(_y)\n",
    "        \n",
    "        _y = layers.Conv2D(F1, (1, kernLength),\n",
    "                           strides=(1, D_pooling),\n",
    "                           padding='same',\n",
    "                           kernel_regularizer=F1_kern_reg,\n",
    "                           activation=activation)(_y)\n",
    "        \n",
    "        # Smooth in the time-dimension\n",
    "#         _y = layers.AveragePooling2D((1, D_pooling))(_y)\n",
    "#         _y = layers.Dropout(dropoutRate)(_y)\n",
    "        \n",
    "        _y = layers.Conv2D(F2, (1, F2_kernLength),\n",
    "                           padding='same',\n",
    "                           activation=activation)(_y)\n",
    "        _y = layers.Conv2D(F2, (1, F2_kernLength),\n",
    "                           strides=(1, F2_pooling),\n",
    "                           padding='same',\n",
    "                           activation=activation)(_y)\n",
    "        \n",
    "#         _y = layers.AveragePooling2D((1, F2_pooling))(_y)\n",
    "#         _y = layers.Dropout(dropoutRate)(_y)\n",
    "        \n",
    "#         _y = layers.DepthwiseConv2D((num_chans, 1),\n",
    "#                                     padding='valid',\n",
    "#                                     activation=activation,\n",
    "                                    # use_bias=False,\n",
    "#                                     depth_multiplier=D,\n",
    "#                                     depthwise_regularizer=depth_regu,\n",
    "#                                     depthwise_constraint=max_norm(1.))(_y)\n",
    "#         _y = layers.Conv2D(D*F2, (1, F2_kernLength),\n",
    "#                        padding='same',\n",
    "#                        activation=activation)(_y)\n",
    "#         _y = layers.MaxPooling2D((1, F2_pooling))(_y)\n",
    "#         _y = layers.Dropout(dropoutRate)(_y)\n",
    "\n",
    "        _y = layers.Conv2D(D*F2, (num_chans, 4),\n",
    "                           padding='valid',\n",
    "                           activation=activation)(_y)\n",
    "        \n",
    "        _y = layers.Flatten()(_y)\n",
    "        mv_distr_dim = tfp.layers.MultivariateNormalTriL.params_size(latent_dim)\n",
    "        \n",
    "        _y = layers.Dense(mv_distr_dim, activation=None)(_y)\n",
    "        \n",
    "        _y = tfp.layers.MultivariateNormalTriL(latent_dim,\n",
    "                                           activity_regularizer=tfp.layers.KLDivergenceRegularizer(prior)\n",
    "                                          )(_y)\n",
    "        \n",
    "        _x = _y\n",
    "        \n",
    "        _x = layers.Reshape([1, 1, latent_dim])(_x)\n",
    "        \n",
    "        _x = layers.Dense(mv_distr_dim, activation=activation)(_x)\n",
    "        \n",
    "        _x = layers.Conv2DTranspose(F2, (num_chans, 4), strides=1,\n",
    "                                    padding='valid', activation=activation)(_x)\n",
    "        \n",
    "        _x = layers.Conv2DTranspose(F2, (1, F2_kernLength), strides=1,\n",
    "                                    padding='same', activation=activation)(_x)\n",
    "        _x = layers.Conv2DTranspose(F2, (1, F2_kernLength), strides=(1, F2_pooling),\n",
    "                                    padding='same', activation=activation)(_x)\n",
    "        \n",
    "        _x = layers.Conv2DTranspose(F1, (1, kernLength), strides=(1, 1),\n",
    "                                    padding='same', activation=activation)(_x)\n",
    "        _x = layers.Conv2DTranspose(F1, (1, kernLength), strides=(1, D_pooling),\n",
    "                                    padding='same', activation=activation)(_x)\n",
    "        \n",
    "        _x = layers.Conv2DTranspose(F1, (1, kernLength), strides=1,\n",
    "                                    padding='same', activation=activation)(_x)\n",
    "        \n",
    "        _x = layers.Conv2D(filters=2, kernel_size=(1, kernLength), strides=1,\n",
    "                           padding='same', activation=None)(_x)\n",
    "        \n",
    "       \n",
    "        if False:\n",
    "\n",
    "            _x = layers.Conv2DTranspose(D*F2, (1, F2_kernLength),\n",
    "                                        strides=(1, F2_pooling),\n",
    "                                        activation=activation,\n",
    "                                        padding='same')(_x)\n",
    "            _x = layers.BatchNormalization()(_x)\n",
    "            _x = layers.Dropout(dropoutRate)(_x)\n",
    "\n",
    "            _x = layers.UpSampling2D((num_chans, 1))(_x)\n",
    "            _x = layers.DepthwiseConv2D((num_chans, 1), padding='same',\n",
    "                                       depth_multiplier=1)(_x)\n",
    "\n",
    "            _x = layers.Conv2DTranspose(F2, (1, F2_kernLength),\n",
    "                                        strides=(1, F2_pooling),\n",
    "                                        activation=activation,\n",
    "                                        padding='same')(_x)\n",
    "            _x = layers.BatchNormalization()(_x)\n",
    "            _x = layers.Dropout(dropoutRate)(_x)\n",
    "\n",
    "\n",
    "            _x = layers.Conv2DTranspose(F1, (1, kernLength),\n",
    "                                        strides=(1, D_pooling),\n",
    "                                        activation=activation,\n",
    "                                        padding='same')(_x)\n",
    "\n",
    "            _x = layers.Conv2D(2, (1, num_samps), padding='same')(_x)\n",
    "        \n",
    "        _x = layers.Flatten()(_x)\n",
    "        \n",
    "        _x = tfp.layers.IndependentNormal((num_chans, num_samps))(_x)        \n",
    "    \n",
    "    if return_model:\n",
    "        return tf.keras.models.Model(inputs=[_input], outputs=[_x])\n",
    "    else:\n",
    "        return _x"
   ]
  },
  {
   "cell_type": "markdown",
   "metadata": {
    "pycharm": {
     "name": "#%% md\n"
    }
   },
   "source": [
    "Parameterize the model and preview the model.\n",
    " "
   ]
  },
  {
   "cell_type": "code",
   "execution_count": 69,
   "metadata": {},
   "outputs": [],
   "source": [
    "from indl.data.augmentations import random_slice\n",
    "from functools import partial\n",
    "\n",
    "\n",
    "model_kwargs = dict(\n",
    "    F1=16, kernLength=25, F1_kern_reg=None,\n",
    "    D=2, D_pooling=4,\n",
    "    F2=32, F2_kernLength=16,\n",
    "    F2_pooling=4,\n",
    "    dropoutRate=0.30,\n",
    "    activation='selu',\n",
    "    l1_reg=0.000, l2_reg=0.003,\n",
    "    norm_rate=0.25,\n",
    "    latent_dim=8\n",
    ")\n",
    "\n",
    "n_min_times = model_kwargs['F2_kernLength'] * model_kwargs['D_pooling']\n",
    "max_offset = X_rates.shape[-1] - n_min_times\n",
    "p_random_slice = partial(random_slice, max_offset=max_offset)"
   ]
  },
  {
   "cell_type": "code",
   "execution_count": 70,
   "metadata": {},
   "outputs": [],
   "source": [
    "def rates2dataset(X, is_train=True, batch_size=16):\n",
    "    temp_ds = tf.data.Dataset.from_tensor_slices((X, X))\n",
    "    \n",
    "    # cast data types to GPU-friendly types.\n",
    "    temp_ds = temp_ds.map(lambda x, y: (tf.cast(x, tf.float32), tf.cast(y, tf.float32)))\n",
    "    \n",
    "    # augmentations (random slicing?)\n",
    "    temp_ds = temp_ds.map(p_random_slice)\n",
    "\n",
    "    if is_train:\n",
    "        temp_ds = temp_ds.shuffle(X.shape[0] + 1)\n",
    "        \n",
    "    temp_ds = temp_ds.batch(batch_size, drop_remainder=is_train)\n",
    "    \n",
    "    return temp_ds\n"
   ]
  },
  {
   "cell_type": "code",
   "execution_count": 71,
   "metadata": {
    "pycharm": {
     "is_executing": false
    },
    "scrolled": false
   },
   "outputs": [
    {
     "name": "stdout",
     "output_type": "stream",
     "text": [
      "Model: \"model\"\n",
      "_________________________________________________________________\n",
      "Layer (type)                 Output Shape              Param #   \n",
      "=================================================================\n",
      "input_1 (InputLayer)         [(None, 32, 64)]          0         \n",
      "_________________________________________________________________\n",
      "reshape (Reshape)            (None, 32, 64, 1)         0         \n",
      "_________________________________________________________________\n",
      "conv2d (Conv2D)              (None, 32, 64, 16)        416       \n",
      "_________________________________________________________________\n",
      "conv2d_1 (Conv2D)            (None, 32, 16, 16)        6416      \n",
      "_________________________________________________________________\n",
      "conv2d_2 (Conv2D)            (None, 32, 16, 32)        8224      \n",
      "_________________________________________________________________\n",
      "conv2d_3 (Conv2D)            (None, 32, 4, 32)         16416     \n",
      "_________________________________________________________________\n",
      "conv2d_4 (Conv2D)            (None, 1, 1, 64)          262208    \n",
      "_________________________________________________________________\n",
      "flatten (Flatten)            (None, 64)                0         \n",
      "_________________________________________________________________\n",
      "dense (Dense)                (None, 44)                2860      \n",
      "_________________________________________________________________\n",
      "multivariate_normal_tri_l (M ((None, 8), (None, 8))    0         \n",
      "_________________________________________________________________\n",
      "reshape_1 (Reshape)          (None, 1, 1, 8)           0         \n",
      "_________________________________________________________________\n",
      "dense_1 (Dense)              (None, 1, 1, 44)          396       \n",
      "_________________________________________________________________\n",
      "conv2d_transpose (Conv2DTran (None, 32, 4, 32)         180256    \n",
      "_________________________________________________________________\n",
      "conv2d_transpose_1 (Conv2DTr (None, 32, 4, 32)         16416     \n",
      "_________________________________________________________________\n",
      "conv2d_transpose_2 (Conv2DTr (None, 32, 16, 32)        16416     \n",
      "_________________________________________________________________\n",
      "conv2d_transpose_3 (Conv2DTr (None, 32, 16, 16)        12816     \n",
      "_________________________________________________________________\n",
      "conv2d_transpose_4 (Conv2DTr (None, 32, 64, 16)        6416      \n",
      "_________________________________________________________________\n",
      "conv2d_transpose_5 (Conv2DTr (None, 32, 64, 16)        6416      \n",
      "_________________________________________________________________\n",
      "conv2d_5 (Conv2D)            (None, 32, 64, 2)         802       \n",
      "_________________________________________________________________\n",
      "flatten_1 (Flatten)          (None, 4096)              0         \n",
      "_________________________________________________________________\n",
      "independent_normal (Independ ((None, 32, 64), (None, 3 0         \n",
      "=================================================================\n",
      "Total params: 536,474\n",
      "Trainable params: 536,474\n",
      "Non-trainable params: 0\n",
      "_________________________________________________________________\n"
     ]
    }
   ],
   "source": [
    "tf.keras.backend.clear_session()\n",
    "\n",
    "randseed = 12345\n",
    "random.seed(randseed)\n",
    "np.random.seed(randseed)\n",
    "tf.random.set_seed(randseed)\n",
    "\n",
    "temp_ds = rates2dataset(X_rates)\n",
    "\n",
    "model = make_model(\n",
    "    temp_ds.element_spec[0],\n",
    "    **model_kwargs\n",
    ")\n",
    "optim = tf.keras.optimizers.Nadam(learning_rate=0.001)\n",
    "loss_fun = lambda x, rv_x: -rv_x.log_prob(x)\n",
    "model.compile(optimizer=optim, loss=loss_fun)\n",
    "model.summary()\n",
    "if False:\n",
    "    tf.keras.utils.plot_model(\n",
    "        model,\n",
    "        to_file='model.png',\n",
    "        show_shapes=True,\n",
    "        show_layer_names=True,\n",
    "        rankdir='TB',\n",
    "        expand_nested=False,\n",
    "        dpi=96\n",
    "    )\n"
   ]
  },
  {
   "cell_type": "markdown",
   "metadata": {},
   "source": [
    "### Training loop\n"
   ]
  },
  {
   "cell_type": "code",
   "execution_count": 72,
   "metadata": {
    "pycharm": {
     "is_executing": false,
     "name": "#%%\n"
    }
   },
   "outputs": [],
   "source": [
    "from sklearn.model_selection import StratifiedKFold\n",
    "\n",
    "N_SPLITS = 10\n",
    "BATCH_SIZE = 8\n",
    "EPOCHS = 80\n",
    "\n",
    "\n",
    "def get_hists_ae(sess_id, verbose=1):\n",
    "    print(f\"Processing session {sess_id}...\")\n",
    "    X_rates, Y_class, ax_info = load_macaque_pfc(data_path, sess_id, x_chunk='spikerates', **load_kwargs)\n",
    "    \n",
    "    splitter = StratifiedKFold(n_splits=N_SPLITS, shuffle=True, random_state=0)\n",
    "    split_ix = 0\n",
    "    histories = []\n",
    "\n",
    "    for trn, vld in splitter.split(X_rates, Y_class):\n",
    "        # Quick terminate for debugging\n",
    "        if split_ix > 0:\n",
    "            break\n",
    "            \n",
    "        print(f\"\\tSplit {split_ix + 1} of {N_SPLITS}\")\n",
    "        \n",
    "        ds_train = rates2dataset(X_rates[trn], is_train=True, batch_size=BATCH_SIZE)\n",
    "        ds_valid = rates2dataset(X_rates[vld], is_train=False, batch_size=BATCH_SIZE)\n",
    "        \n",
    "        tf.keras.backend.clear_session()\n",
    "        \n",
    "        randseed = 12345\n",
    "        random.seed(randseed)\n",
    "        np.random.seed(randseed)\n",
    "        tf.random.set_seed(randseed)\n",
    "        \n",
    "        model = make_model(\n",
    "            ds_train.element_spec[0],\n",
    "            **model_kwargs\n",
    "        )\n",
    "        optim = tf.keras.optimizers.Nadam(learning_rate=0.001)\n",
    "        loss_fun = lambda x, rv_x: -rv_x.log_prob(x)\n",
    "        model.compile(optimizer=optim, loss=loss_fun)\n",
    "        \n",
    "        best_model_path = f'ratesAE_{sess_id}_split{split_ix}.h5'\n",
    "        callbacks = [\n",
    "            tf.keras.callbacks.ModelCheckpoint(\n",
    "                filepath=best_model_path,\n",
    "                # Path where to save the model\n",
    "                # The two parameters below mean that we will overwrite\n",
    "                # the current checkpoint if and only if\n",
    "                # the `val_loss` score has improved.\n",
    "                save_best_only=True,\n",
    "                save_weights_only=True,  # Necessary for tf probabilistic\n",
    "                monitor='val_loss',\n",
    "                verbose=verbose)\n",
    "        ]\n",
    "\n",
    "        hist = model.fit(x=ds_train, epochs=EPOCHS,\n",
    "                         verbose=verbose,\n",
    "                         validation_data=ds_valid,\n",
    "                         callbacks=callbacks)\n",
    "        # tf.keras.models.save_model(model, 'model.h5')\n",
    "        histories.append(hist.history)\n",
    "        \n",
    "        split_ix += 1\n",
    "        \n",
    "    # Combine histories into one dictionary.\n",
    "    history = {}\n",
    "    for h in histories:\n",
    "        for k,v in h.items():\n",
    "            if k not in history:\n",
    "                history[k] = v\n",
    "            else:\n",
    "                history[k].append(np.nan)\n",
    "                history[k].extend(v)\n",
    "    \n",
    "    return history\n",
    "        "
   ]
  },
  {
   "cell_type": "markdown",
   "metadata": {},
   "source": [
    "Test training on one session."
   ]
  },
  {
   "cell_type": "code",
   "execution_count": 73,
   "metadata": {
    "pycharm": {
     "is_executing": false,
     "name": "#%%\n"
    }
   },
   "outputs": [
    {
     "name": "stdout",
     "output_type": "stream",
     "text": [
      "Processing session sra3_1_j_050_00+...\n",
      "Found 663 trials, 207 timestamps(-0.25 to 1.81 at 100.0 Hz), 32 channels\n",
      "Returning Y as sacClass with shape (663, 1).\n",
      "Axis info has: dict_keys(['instance_data', 'instance_times', 'fs', 'timestamps', 'channel_names', 'channel_locs'])\n",
      "\tSplit 1 of 10\n",
      "Train for 73 steps, validate for 9 steps\n",
      "Epoch 1/80\n",
      "\n",
      "Epoch 00001: val_loss improved from inf to 2801.90367, saving model to ratesAE_sra3_1_j_050_00+_split0.h5\n",
      "73/73 - 5s - loss: 3115.4750 - val_loss: 2801.9037\n",
      "Epoch 2/80\n",
      "\n",
      "Epoch 00002: val_loss improved from 2801.90367 to 2553.57848, saving model to ratesAE_sra3_1_j_050_00+_split0.h5\n",
      "73/73 - 3s - loss: 2658.0013 - val_loss: 2553.5785\n",
      "Epoch 3/80\n",
      "\n",
      "Epoch 00003: val_loss improved from 2553.57848 to 2444.43205, saving model to ratesAE_sra3_1_j_050_00+_split0.h5\n",
      "73/73 - 3s - loss: 2496.6832 - val_loss: 2444.4320\n",
      "Epoch 4/80\n",
      "\n",
      "Epoch 00004: val_loss improved from 2444.43205 to 2425.07007, saving model to ratesAE_sra3_1_j_050_00+_split0.h5\n",
      "73/73 - 3s - loss: 2444.3933 - val_loss: 2425.0701\n",
      "Epoch 5/80\n",
      "\n",
      "Epoch 00005: val_loss improved from 2425.07007 to 2393.61987, saving model to ratesAE_sra3_1_j_050_00+_split0.h5\n",
      "73/73 - 3s - loss: 2382.1196 - val_loss: 2393.6199\n",
      "Epoch 6/80\n",
      "\n",
      "Epoch 00006: val_loss improved from 2393.61987 to 2354.14865, saving model to ratesAE_sra3_1_j_050_00+_split0.h5\n",
      "73/73 - 3s - loss: 2343.4865 - val_loss: 2354.1487\n",
      "Epoch 7/80\n",
      "\n",
      "Epoch 00007: val_loss did not improve from 2354.14865\n",
      "73/73 - 3s - loss: 2374.2178 - val_loss: 2396.3440\n",
      "Epoch 8/80\n",
      "\n",
      "Epoch 00008: val_loss improved from 2354.14865 to 2324.41933, saving model to ratesAE_sra3_1_j_050_00+_split0.h5\n",
      "73/73 - 3s - loss: 2307.3467 - val_loss: 2324.4193\n",
      "Epoch 9/80\n",
      "\n",
      "Epoch 00009: val_loss improved from 2324.41933 to 2323.72024, saving model to ratesAE_sra3_1_j_050_00+_split0.h5\n",
      "73/73 - 3s - loss: 2283.4618 - val_loss: 2323.7202\n",
      "Epoch 10/80\n",
      "\n",
      "Epoch 00010: val_loss improved from 2323.72024 to 2303.98499, saving model to ratesAE_sra3_1_j_050_00+_split0.h5\n",
      "73/73 - 3s - loss: 2257.7791 - val_loss: 2303.9850\n",
      "Epoch 11/80\n",
      "\n",
      "Epoch 00011: val_loss did not improve from 2303.98499\n",
      "73/73 - 3s - loss: 2246.9948 - val_loss: 2361.1491\n",
      "Epoch 12/80\n",
      "\n",
      "Epoch 00012: val_loss improved from 2303.98499 to 2269.01782, saving model to ratesAE_sra3_1_j_050_00+_split0.h5\n",
      "73/73 - 3s - loss: 2224.4345 - val_loss: 2269.0178\n",
      "Epoch 13/80\n",
      "\n",
      "Epoch 00013: val_loss did not improve from 2269.01782\n",
      "73/73 - 3s - loss: 2260.6017 - val_loss: 2348.2275\n",
      "Epoch 14/80\n",
      "\n",
      "Epoch 00014: val_loss did not improve from 2269.01782\n",
      "73/73 - 3s - loss: 2219.4622 - val_loss: 2307.2708\n",
      "Epoch 15/80\n",
      "\n",
      "Epoch 00015: val_loss did not improve from 2269.01782\n",
      "73/73 - 3s - loss: 2200.9354 - val_loss: 2280.9071\n",
      "Epoch 16/80\n",
      "\n",
      "Epoch 00016: val_loss did not improve from 2269.01782\n",
      "73/73 - 3s - loss: 2173.4384 - val_loss: 2328.1480\n",
      "Epoch 17/80\n",
      "\n",
      "Epoch 00017: val_loss did not improve from 2269.01782\n",
      "73/73 - 3s - loss: 2179.2796 - val_loss: 2289.5498\n",
      "Epoch 18/80\n",
      "\n",
      "Epoch 00018: val_loss did not improve from 2269.01782\n",
      "73/73 - 3s - loss: 2166.0142 - val_loss: 2270.6583\n",
      "Epoch 19/80\n",
      "\n",
      "Epoch 00019: val_loss did not improve from 2269.01782\n",
      "73/73 - 3s - loss: 2160.4467 - val_loss: 2269.7839\n",
      "Epoch 20/80\n",
      "\n",
      "Epoch 00020: val_loss did not improve from 2269.01782\n",
      "73/73 - 3s - loss: 2164.5183 - val_loss: 2284.2454\n",
      "Epoch 21/80\n",
      "\n",
      "Epoch 00021: val_loss did not improve from 2269.01782\n",
      "73/73 - 3s - loss: 2154.7599 - val_loss: 2272.2220\n",
      "Epoch 22/80\n",
      "\n",
      "Epoch 00022: val_loss improved from 2269.01782 to 2256.06976, saving model to ratesAE_sra3_1_j_050_00+_split0.h5\n",
      "73/73 - 3s - loss: 2141.6117 - val_loss: 2256.0698\n",
      "Epoch 23/80\n",
      "\n",
      "Epoch 00023: val_loss did not improve from 2256.06976\n",
      "73/73 - 3s - loss: 2132.2856 - val_loss: 2279.3619\n",
      "Epoch 24/80\n",
      "\n",
      "Epoch 00024: val_loss did not improve from 2256.06976\n",
      "73/73 - 3s - loss: 2151.5930 - val_loss: 2966.7033\n",
      "Epoch 25/80\n",
      "\n",
      "Epoch 00025: val_loss did not improve from 2256.06976\n",
      "73/73 - 3s - loss: 2524.3104 - val_loss: 2347.2550\n",
      "Epoch 26/80\n",
      "\n",
      "Epoch 00026: val_loss did not improve from 2256.06976\n",
      "73/73 - 3s - loss: 2266.2589 - val_loss: 2285.9862\n",
      "Epoch 27/80\n",
      "\n",
      "Epoch 00027: val_loss did not improve from 2256.06976\n",
      "73/73 - 3s - loss: 2218.5121 - val_loss: 2657.5455\n",
      "Epoch 28/80\n",
      "\n",
      "Epoch 00028: val_loss did not improve from 2256.06976\n",
      "73/73 - 3s - loss: 2263.6686 - val_loss: 2282.4349\n",
      "Epoch 29/80\n",
      "\n",
      "Epoch 00029: val_loss did not improve from 2256.06976\n",
      "73/73 - 3s - loss: 2159.0004 - val_loss: 2263.6220\n",
      "Epoch 30/80\n",
      "\n",
      "Epoch 00030: val_loss did not improve from 2256.06976\n",
      "73/73 - 3s - loss: 2126.0990 - val_loss: 2293.6399\n",
      "Epoch 31/80\n",
      "\n",
      "Epoch 00031: val_loss improved from 2256.06976 to 2249.54012, saving model to ratesAE_sra3_1_j_050_00+_split0.h5\n",
      "73/73 - 3s - loss: 2126.7875 - val_loss: 2249.5401\n",
      "Epoch 32/80\n",
      "\n",
      "Epoch 00032: val_loss did not improve from 2249.54012\n",
      "73/73 - 3s - loss: 2347.0501 - val_loss: 2337.6818\n",
      "Epoch 33/80\n",
      "\n",
      "Epoch 00033: val_loss did not improve from 2249.54012\n",
      "73/73 - 3s - loss: 2134.5734 - val_loss: 2270.5882\n",
      "Epoch 34/80\n",
      "\n",
      "Epoch 00034: val_loss did not improve from 2249.54012\n",
      "73/73 - 3s - loss: 2107.7855 - val_loss: 2253.6632\n",
      "Epoch 35/80\n",
      "\n",
      "Epoch 00035: val_loss improved from 2249.54012 to 2249.23273, saving model to ratesAE_sra3_1_j_050_00+_split0.h5\n",
      "73/73 - 3s - loss: 2095.8615 - val_loss: 2249.2327\n",
      "Epoch 36/80\n",
      "\n",
      "Epoch 00036: val_loss did not improve from 2249.23273\n",
      "73/73 - 3s - loss: 2098.0564 - val_loss: 2448.6560\n",
      "Epoch 37/80\n",
      "\n",
      "Epoch 00037: val_loss improved from 2249.23273 to 2240.45067, saving model to ratesAE_sra3_1_j_050_00+_split0.h5\n",
      "73/73 - 3s - loss: 2108.8418 - val_loss: 2240.4507\n",
      "Epoch 38/80\n",
      "\n",
      "Epoch 00038: val_loss improved from 2240.45067 to 2235.66603, saving model to ratesAE_sra3_1_j_050_00+_split0.h5\n",
      "73/73 - 3s - loss: 2107.6400 - val_loss: 2235.6660\n",
      "Epoch 39/80\n",
      "\n",
      "Epoch 00039: val_loss did not improve from 2235.66603\n",
      "73/73 - 3s - loss: 2064.2816 - val_loss: 2376.5514\n",
      "Epoch 40/80\n",
      "\n",
      "Epoch 00040: val_loss did not improve from 2235.66603\n",
      "73/73 - 3s - loss: 2175.1004 - val_loss: 2276.1003\n",
      "Epoch 41/80\n",
      "\n",
      "Epoch 00041: val_loss improved from 2235.66603 to 2216.39220, saving model to ratesAE_sra3_1_j_050_00+_split0.h5\n",
      "73/73 - 3s - loss: 2090.3361 - val_loss: 2216.3922\n",
      "Epoch 42/80\n",
      "\n",
      "Epoch 00042: val_loss did not improve from 2216.39220\n",
      "73/73 - 3s - loss: 2204.1595 - val_loss: 2284.1028\n",
      "Epoch 43/80\n",
      "\n",
      "Epoch 00043: val_loss did not improve from 2216.39220\n",
      "73/73 - 3s - loss: 2105.2118 - val_loss: 2406.7170\n",
      "Epoch 44/80\n",
      "\n",
      "Epoch 00044: val_loss did not improve from 2216.39220\n",
      "73/73 - 3s - loss: 2107.0603 - val_loss: 2249.6208\n",
      "Epoch 45/80\n",
      "\n",
      "Epoch 00045: val_loss did not improve from 2216.39220\n",
      "73/73 - 3s - loss: 2078.7223 - val_loss: 2228.1004\n",
      "Epoch 46/80\n",
      "\n",
      "Epoch 00046: val_loss did not improve from 2216.39220\n",
      "73/73 - 3s - loss: 2038.2699 - val_loss: 2383.3472\n",
      "Epoch 47/80\n",
      "\n",
      "Epoch 00047: val_loss did not improve from 2216.39220\n",
      "73/73 - 3s - loss: 2090.2906 - val_loss: 2309.7305\n",
      "Epoch 48/80\n",
      "\n",
      "Epoch 00048: val_loss did not improve from 2216.39220\n",
      "73/73 - 3s - loss: 2030.8485 - val_loss: 2217.5284\n",
      "Epoch 49/80\n",
      "\n",
      "Epoch 00049: val_loss did not improve from 2216.39220\n",
      "73/73 - 3s - loss: 2045.3400 - val_loss: 2284.6545\n",
      "Epoch 50/80\n",
      "\n",
      "Epoch 00050: val_loss did not improve from 2216.39220\n",
      "73/73 - 3s - loss: 2050.2603 - val_loss: 2267.9684\n",
      "Epoch 51/80\n",
      "\n",
      "Epoch 00051: val_loss did not improve from 2216.39220\n",
      "73/73 - 3s - loss: 2045.1401 - val_loss: 2316.1153\n",
      "Epoch 52/80\n",
      "\n",
      "Epoch 00052: val_loss did not improve from 2216.39220\n",
      "73/73 - 3s - loss: 2053.0423 - val_loss: 2322.2182\n",
      "Epoch 53/80\n",
      "\n",
      "Epoch 00053: val_loss did not improve from 2216.39220\n",
      "73/73 - 3s - loss: 2007.8245 - val_loss: 2223.7254\n",
      "Epoch 54/80\n",
      "\n",
      "Epoch 00054: val_loss did not improve from 2216.39220\n",
      "73/73 - 3s - loss: 1987.0445 - val_loss: 2229.9637\n",
      "Epoch 55/80\n",
      "\n",
      "Epoch 00055: val_loss did not improve from 2216.39220\n",
      "73/73 - 3s - loss: 1990.6233 - val_loss: 2227.8169\n",
      "Epoch 56/80\n",
      "\n",
      "Epoch 00056: val_loss did not improve from 2216.39220\n",
      "73/73 - 3s - loss: 1993.6145 - val_loss: 2235.4489\n",
      "Epoch 57/80\n",
      "\n",
      "Epoch 00057: val_loss did not improve from 2216.39220\n",
      "73/73 - 3s - loss: 1990.1015 - val_loss: 2317.5384\n",
      "Epoch 58/80\n",
      "\n",
      "Epoch 00058: val_loss did not improve from 2216.39220\n",
      "73/73 - 3s - loss: 1999.7088 - val_loss: 2285.6585\n",
      "Epoch 59/80\n",
      "\n",
      "Epoch 00059: val_loss did not improve from 2216.39220\n",
      "73/73 - 3s - loss: 1968.6698 - val_loss: 2243.1395\n"
     ]
    },
    {
     "name": "stdout",
     "output_type": "stream",
     "text": [
      "Epoch 60/80\n",
      "\n",
      "Epoch 00060: val_loss did not improve from 2216.39220\n",
      "73/73 - 3s - loss: 2031.2776 - val_loss: 2220.7432\n",
      "Epoch 61/80\n",
      "\n",
      "Epoch 00061: val_loss did not improve from 2216.39220\n",
      "73/73 - 3s - loss: 1974.2421 - val_loss: 2299.8033\n",
      "Epoch 62/80\n",
      "\n",
      "Epoch 00062: val_loss did not improve from 2216.39220\n",
      "73/73 - 3s - loss: 1962.2740 - val_loss: 2234.7224\n",
      "Epoch 63/80\n",
      "\n",
      "Epoch 00063: val_loss did not improve from 2216.39220\n",
      "73/73 - 3s - loss: 1961.9982 - val_loss: 2232.3644\n",
      "Epoch 64/80\n",
      "\n",
      "Epoch 00064: val_loss did not improve from 2216.39220\n",
      "73/73 - 3s - loss: 1976.1065 - val_loss: 2249.9511\n",
      "Epoch 65/80\n",
      "\n",
      "Epoch 00065: val_loss did not improve from 2216.39220\n",
      "73/73 - 3s - loss: 1976.2942 - val_loss: 2367.4053\n",
      "Epoch 66/80\n",
      "\n",
      "Epoch 00066: val_loss did not improve from 2216.39220\n",
      "73/73 - 3s - loss: 2002.3389 - val_loss: 2226.9445\n",
      "Epoch 67/80\n",
      "\n",
      "Epoch 00067: val_loss did not improve from 2216.39220\n",
      "73/73 - 3s - loss: 2035.3576 - val_loss: 2392.2724\n",
      "Epoch 68/80\n",
      "\n",
      "Epoch 00068: val_loss did not improve from 2216.39220\n",
      "73/73 - 3s - loss: 2000.0892 - val_loss: 2307.8729\n",
      "Epoch 69/80\n",
      "\n",
      "Epoch 00069: val_loss did not improve from 2216.39220\n",
      "73/73 - 3s - loss: 2096.0320 - val_loss: 2457.3193\n",
      "Epoch 70/80\n",
      "\n",
      "Epoch 00070: val_loss did not improve from 2216.39220\n",
      "73/73 - 3s - loss: nan - val_loss: nan\n",
      "Epoch 71/80\n",
      "\n",
      "Epoch 00071: val_loss did not improve from 2216.39220\n",
      "73/73 - 3s - loss: nan - val_loss: nan\n",
      "Epoch 72/80\n",
      "\n",
      "Epoch 00072: val_loss did not improve from 2216.39220\n",
      "73/73 - 3s - loss: nan - val_loss: nan\n",
      "Epoch 73/80\n",
      "\n",
      "Epoch 00073: val_loss did not improve from 2216.39220\n",
      "73/73 - 3s - loss: nan - val_loss: nan\n",
      "Epoch 74/80\n",
      "\n",
      "Epoch 00074: val_loss did not improve from 2216.39220\n",
      "73/73 - 3s - loss: nan - val_loss: nan\n",
      "Epoch 75/80\n",
      "\n",
      "Epoch 00075: val_loss did not improve from 2216.39220\n",
      "73/73 - 3s - loss: nan - val_loss: nan\n",
      "Epoch 76/80\n",
      "\n",
      "Epoch 00076: val_loss did not improve from 2216.39220\n",
      "73/73 - 3s - loss: nan - val_loss: nan\n",
      "Epoch 77/80\n",
      "\n",
      "Epoch 00077: val_loss did not improve from 2216.39220\n",
      "73/73 - 3s - loss: nan - val_loss: nan\n",
      "Epoch 78/80\n",
      "\n",
      "Epoch 00078: val_loss did not improve from 2216.39220\n",
      "73/73 - 3s - loss: nan - val_loss: nan\n",
      "Epoch 79/80\n",
      "\n",
      "Epoch 00079: val_loss did not improve from 2216.39220\n",
      "73/73 - 3s - loss: nan - val_loss: nan\n",
      "Epoch 80/80\n",
      "\n",
      "Epoch 00080: val_loss did not improve from 2216.39220\n",
      "73/73 - 3s - loss: nan - val_loss: nan\n"
     ]
    },
    {
     "data": {
      "image/png": "[encoded data removed]",
      "text/plain": [
       "<Figure size 460.8x460.8 with 1 Axes>"
      ]
     },
     "metadata": {
      "needs_background": "light"
     },
     "output_type": "display_data"
    }
   ],
   "source": [
    "from indl.metrics import quickplot_history\n",
    "\n",
    "history = get_hists_ae(sess_infos[1]['exp_code'], verbose=2)\n",
    "quickplot_history(history)"
   ]
  },
  {
   "cell_type": "code",
   "execution_count": 74,
   "metadata": {},
   "outputs": [
    {
     "name": "stderr",
     "output_type": "stream",
     "text": [
      "W0121 21:14:44.754858 140375979087680 base_layer.py:1790] Layer reshape is casting an input tensor from dtype float64 to the layer's dtype of float32, which is new behavior in TensorFlow 2.  The layer has dtype float32 because it's dtype defaults to floatx.\n",
      "\n",
      "If you intended to run this layer in float32, you can safely ignore this warning. If in doubt, this warning is likely only an issue if you are porting a TensorFlow 1.X model to TensorFlow 2.\n",
      "\n",
      "To change all layers to have dtype float64 by default, call `tf.keras.backend.set_floatx('float64')`. To change just this layer, pass dtype='float64' to the layer constructor. If you are the author of this layer, you can disable autocasting by passing autocast=False to the base Layer constructor.\n",
      "\n"
     ]
    },
    {
     "name": "stdout",
     "output_type": "stream",
     "text": [
      "Found 663 trials, 207 timestamps(-0.25 to 1.81 at 100.0 Hz), 32 channels\n",
      "Returning Y as sacClass with shape (663, 1).\n",
      "Axis info has: dict_keys(['instance_data', 'instance_times', 'fs', 'timestamps', 'channel_names', 'channel_locs'])\n"
     ]
    }
   ],
   "source": [
    "# plot a few samples\n",
    "from tensorflow.keras.models import load_model\n",
    "\n",
    "\n",
    "if False:\n",
    "    sess_id = sess_infos[1]['exp_code']\n",
    "    best_model_path = f'ratesAE_{sess_id}_split{0}.h5'\n",
    "    tf.keras.backend.clear_session()\n",
    "    model = make_model(\n",
    "                temp_ds.element_spec[0],\n",
    "                **model_kwargs\n",
    "            )\n",
    "model.load_weights(best_model_path)\n",
    "\n",
    "X_rates, Y_class, ax_info = load_macaque_pfc(data_path, sess_id, x_chunk='spikerates', **load_kwargs)\n",
    "tmp = X_rates[:, :, max_offset // 2 : max_offset // 2 + n_min_times]\n",
    "preds = model(tmp)"
   ]
  },
  {
   "cell_type": "code",
   "execution_count": 77,
   "metadata": {},
   "outputs": [
    {
     "name": "stdout",
     "output_type": "stream",
     "text": [
      "(663, 32, 64) (663, 32, 64)\n"
     ]
    },
    {
     "data": {
      "text/plain": [
       "[<matplotlib.lines.Line2D at 0x7faa957bd278>,\n",
       " <matplotlib.lines.Line2D at 0x7faa94f4d3c8>,\n",
       " <matplotlib.lines.Line2D at 0x7faa94f4d518>,\n",
       " <matplotlib.lines.Line2D at 0x7faa94f4d668>]"
      ]
     },
     "execution_count": 77,
     "metadata": {},
     "output_type": "execute_result"
    },
    {
     "data": {
      "image/png": "[encoded data removed]",
      "text/plain": [
       "<Figure size 460.8x460.8 with 1 Axes>"
      ]
     },
     "metadata": {
      "needs_background": "light"
     },
     "output_type": "display_data"
    }
   ],
   "source": [
    "print(tmp.shape, preds.shape)\n",
    "\n",
    "plt.plot(tmp[0, :4, :].T)\n",
    "plt.plot(np.mean(preds.sample(100).numpy(), axis=0)[0, :4, :].T)"
   ]
  },
  {
   "cell_type": "markdown",
   "metadata": {},
   "source": [
    "### Training and evaluation - per session\n",
    "\n",
    "Note that using verbose=0 will suppress most of the log information. Progress indicators might only be updated once every few minutes, depending on the number of epochs and the amount of time it takes to process a session."
   ]
  },
  {
   "cell_type": "code",
   "execution_count": 14,
   "metadata": {},
   "outputs": [
    {
     "name": "stdout",
     "output_type": "stream",
     "text": [
      "Processing session sra3_2_j_037_00+03...\n",
      "Found 160 trials, 171 timestamps(-0.25 to 1.45 at 100.0 Hz), 32 channels\n",
      "Returning Y as sacClass with shape (160, 1).\n",
      "Axis info has: dict_keys(['instance_data', 'instance_times', 'fs', 'timestamps', 'channel_names', 'channel_locs'])\n",
      "\tSplit 1 of 10\n",
      "\tSplit 2 of 10\n",
      "\tSplit 3 of 10\n",
      "\tSplit 4 of 10\n",
      "\tSplit 5 of 10\n",
      "\tSplit 6 of 10\n",
      "\tSplit 7 of 10\n",
      "\tSplit 8 of 10\n",
      "\tSplit 9 of 10\n",
      "\tSplit 10 of 10\n",
      "Session sra3_2_j_037_00+03 overall accuracy: 72.5%\n",
      "Processing session sra3_1_j_050_00+...\n",
      "Found 285 trials, 171 timestamps(-0.25 to 1.45 at 100.0 Hz), 32 channels\n",
      "Returning Y as sacClass with shape (285, 1).\n",
      "Axis info has: dict_keys(['instance_data', 'instance_times', 'fs', 'timestamps', 'channel_names', 'channel_locs'])\n",
      "\tSplit 1 of 10\n",
      "\tSplit 2 of 10\n",
      "\tSplit 3 of 10\n",
      "\tSplit 4 of 10\n",
      "\tSplit 5 of 10\n",
      "\tSplit 6 of 10\n",
      "\tSplit 7 of 10\n",
      "\tSplit 8 of 10\n",
      "\tSplit 9 of 10\n",
      "\tSplit 10 of 10\n",
      "Session sra3_1_j_050_00+ overall accuracy: 87.71929824561404%\n",
      "Processing session sra3_1_j_051_00+...\n",
      "Found 271 trials, 171 timestamps(-0.25 to 1.45 at 100.0 Hz), 32 channels\n",
      "Returning Y as sacClass with shape (271, 1).\n",
      "Axis info has: dict_keys(['instance_data', 'instance_times', 'fs', 'timestamps', 'channel_names', 'channel_locs'])\n",
      "\tSplit 1 of 10\n",
      "\tSplit 2 of 10\n",
      "\tSplit 3 of 10\n",
      "\tSplit 4 of 10\n",
      "\tSplit 5 of 10\n",
      "\tSplit 6 of 10\n",
      "\tSplit 7 of 10\n",
      "\tSplit 8 of 10\n",
      "\tSplit 9 of 10\n",
      "\tSplit 10 of 10\n",
      "Session sra3_1_j_051_00+ overall accuracy: 80.44280442804428%\n",
      "Processing session sra3_1_j_052_00+...\n",
      "Found 277 trials, 171 timestamps(-0.25 to 1.45 at 100.0 Hz), 32 channels\n",
      "Returning Y as sacClass with shape (277, 1).\n",
      "Axis info has: dict_keys(['instance_data', 'instance_times', 'fs', 'timestamps', 'channel_names', 'channel_locs'])\n",
      "\tSplit 1 of 10\n",
      "\tSplit 2 of 10\n",
      "\tSplit 3 of 10\n",
      "\tSplit 4 of 10\n",
      "\tSplit 5 of 10\n",
      "\tSplit 6 of 10\n",
      "\tSplit 7 of 10\n",
      "\tSplit 8 of 10\n",
      "\tSplit 9 of 10\n",
      "\tSplit 10 of 10\n",
      "Session sra3_1_j_052_00+ overall accuracy: 80.14440433212997%\n",
      "Processing session sra3_1_m_077_00+01...\n",
      "Found 128 trials, 171 timestamps(-0.25 to 1.45 at 100.0 Hz), 32 channels\n",
      "Returning Y as sacClass with shape (128, 1).\n",
      "Axis info has: dict_keys(['instance_data', 'instance_times', 'fs', 'timestamps', 'channel_names', 'channel_locs'])\n",
      "\tSplit 1 of 10\n",
      "\tSplit 2 of 10\n",
      "\tSplit 3 of 10\n",
      "\tSplit 4 of 10\n",
      "\tSplit 5 of 10\n",
      "\tSplit 6 of 10\n",
      "\tSplit 7 of 10\n",
      "\tSplit 8 of 10\n",
      "\tSplit 9 of 10\n",
      "\tSplit 10 of 10\n",
      "Session sra3_1_m_077_00+01 overall accuracy: 67.1875%\n",
      "Processing session sra3_1_m_081_00+01...\n",
      "Found 96 trials, 171 timestamps(-0.25 to 1.45 at 100.0 Hz), 32 channels\n",
      "Returning Y as sacClass with shape (96, 1).\n",
      "Axis info has: dict_keys(['instance_data', 'instance_times', 'fs', 'timestamps', 'channel_names', 'channel_locs'])\n",
      "\tSplit 1 of 10\n",
      "\tSplit 2 of 10\n",
      "\tSplit 3 of 10\n",
      "\tSplit 4 of 10\n",
      "\tSplit 5 of 10\n",
      "\tSplit 6 of 10\n",
      "\tSplit 7 of 10\n",
      "\tSplit 8 of 10\n",
      "\tSplit 9 of 10\n",
      "\tSplit 10 of 10\n",
      "Session sra3_1_m_081_00+01 overall accuracy: 80.20833333333333%\n",
      "Processing session sra3_1_m_082_00+01...\n",
      "Found 64 trials, 171 timestamps(-0.25 to 1.45 at 100.0 Hz), 32 channels\n",
      "Returning Y as sacClass with shape (64, 1).\n",
      "Axis info has: dict_keys(['instance_data', 'instance_times', 'fs', 'timestamps', 'channel_names', 'channel_locs'])\n",
      "\tSplit 1 of 10\n",
      "\tSplit 2 of 10\n",
      "\tSplit 3 of 10\n",
      "\tSplit 4 of 10\n",
      "\tSplit 5 of 10\n",
      "\tSplit 6 of 10\n",
      "\tSplit 7 of 10\n",
      "\tSplit 8 of 10\n",
      "\tSplit 9 of 10\n",
      "\tSplit 10 of 10\n",
      "Session sra3_1_m_082_00+01 overall accuracy: 84.375%\n",
      "Processing session sra3_1_m_083_00+01...\n",
      "Found 85 trials, 171 timestamps(-0.25 to 1.45 at 100.0 Hz), 32 channels\n",
      "Returning Y as sacClass with shape (85, 1).\n",
      "Axis info has: dict_keys(['instance_data', 'instance_times', 'fs', 'timestamps', 'channel_names', 'channel_locs'])\n",
      "\tSplit 1 of 10\n",
      "\tSplit 2 of 10\n",
      "\tSplit 3 of 10\n",
      "\tSplit 4 of 10\n",
      "\tSplit 5 of 10\n",
      "\tSplit 6 of 10\n",
      "\tSplit 7 of 10\n",
      "\tSplit 8 of 10\n",
      "\tSplit 9 of 10\n",
      "\tSplit 10 of 10\n",
      "Session sra3_1_m_083_00+01 overall accuracy: 82.3529411764706%\n",
      "[72.5, 87.71929824561404, 80.44280442804428, 80.14440433212997, 67.1875, 80.20833333333333, 84.375, 82.3529411764706]\n"
     ]
    }
   ],
   "source": [
    "hists = []\n",
    "for sess_info in sess_infos:\n",
    "    _hist = get_hists_ae(sess_info['exp_code'], verbose=0)\n",
    "    hists.append(_hist)"
   ]
  },
  {
   "cell_type": "markdown",
   "metadata": {
    "colab_type": "text",
    "id": "Ku_MXiETyK4l",
    "pycharm": {
     "name": "#%% md\n"
    }
   },
   "source": [
    "## TODO\n",
    "   \n",
    "1. Use Capsules\n",
    "1. Replace deeper conv layers with LSTM\n",
    "1. If using autoencoder, make sure AE on its own can reconstruct input reasonably well.\n",
    "1. Better model inspection (put code in indl)\n"
   ]
  },
  {
   "cell_type": "markdown",
   "metadata": {
    "colab_type": "text",
    "id": "c4TAXXtODXMJ"
   },
   "source": [
    "Our goal is for the deep model to do at least as well as logistic regression, which gave cross-validated classification accuracies of ~60% and ~81% in two datasets. Using the EEGNet CNN, we achieve 74% and 85%. The improvement on the first dataset improves classification above the unofficial threshold for acceptable BCI performance.\n",
    "\n",
    "We expect the deep model will be useful in other ways too."
   ]
  },
  {
   "cell_type": "markdown",
   "metadata": {
    "colab_type": "text",
    "id": "CKenpuR2lnJH",
    "pycharm": {
     "name": "#%% md\n"
    }
   },
   "source": [
    "## Inspecting the model\n",
    "\n",
    "We're doing a little better than we did with logistic regression,\n",
    "but let's see what we can learn from/about the model.\n",
    "\n",
    "[Further info](http://cs231n.github.io/understanding-cnn/)\n",
    "\n"
   ]
  },
  {
   "cell_type": "code",
   "execution_count": null,
   "metadata": {
    "colab": {},
    "colab_type": "code",
    "id": "wFKTmTpHnSA4",
    "outputId": "23bd1b5f-291b-485d-f827-5fc58294cda6"
   },
   "outputs": [],
   "source": [
    "# Load the 'best' model from disk.\n",
    "tf.keras.backend.clear_session()\n",
    "from tensorflow.keras.models import load_model\n",
    "model = load_model(datadir / 'models' / (SESS_ID + '_model_best_all.h5'))\n",
    "# model.summary()"
   ]
  },
  {
   "cell_type": "markdown",
   "metadata": {
    "colab_type": "text",
    "id": "ZfkSfGxtDXMP"
   },
   "source": [
    "### t-Distributed Stochastic Neighbour Embedding (t-SNE)\n",
    "\n",
    "https://distill.pub/2016/misread-tsne/\n",
    "\n",
    "From [sklearn.manifold.TSNE](https://scikit-learn.org/stable/modules/generated/sklearn.manifold.TSNE.html):\n",
    "\n",
    ">t-SNE [1] is a tool to visualize high-dimensional data. It converts similarities between data points to joint probabilities and tries to minimize the Kullback-Leibler divergence between the joint probabilities of the low-dimensional embedding and the high-dimensional data. t-SNE has a cost function that is not convex, i.e. with different initializations we can get different results.\n",
    "\n",
    "We will compare the t-SNE projections of the outputs to the projections of the inputs.\n",
    "However, the raw spiketrains do not decompose to very well so for inputs we will use spikerates that are previously derived from the spike trains convolved with a gaussian kernel (sigma=50 msec)."
   ]
  },
  {
   "cell_type": "code",
   "execution_count": null,
   "metadata": {
    "colab": {},
    "colab_type": "code",
    "id": "5v0xgvIjDXMU"
   },
   "outputs": [],
   "source": [
    "from sklearn.manifold import TSNE\n",
    "from sklearn.decomposition import PCA\n",
    "\n",
    "# Create a colour code cycler e.g. 'C0', 'C1', etc.\n",
    "from itertools import cycle\n",
    "colour_codes = map('C{}'.format, cycle(range(10)))\n",
    "class_colors = np.array([next(colour_codes) for _ in range(10)])\n",
    "# class_colors = np.array(['b', 'g', 'r', 'c', 'm', 'y', 'k', 'w'])\n",
    "tbs = 30  # tsne batch size\n",
    "\n",
    "TEST_PERPLEXITY = 20  # 10, 30\n",
    "\n",
    "def plot_tsne(x_vals, y_vals, perplexity, title='Model Output'):\n",
    "    plt.scatter(x=x_vals[:, 0], y=x_vals[:, 1], color=class_colors[y_vals])\n",
    "    plt.xlabel('t-SNE D-1')\n",
    "    plt.ylabel('t-SNE D-2')\n",
    "    plt.title(title + ' (Ppx: {})'.format(perplexity))\n",
    "    ax = plt.gca()"
   ]
  },
  {
   "cell_type": "code",
   "execution_count": null,
   "metadata": {
    "colab": {},
    "colab_type": "code",
    "id": "3oZCmrZuyK5E",
    "outputId": "3c64a40b-ec80-45f9-e2cd-e528fbf94eee"
   },
   "outputs": [],
   "source": [
    "fig = plt.figure(figsize=(12, 12))\n",
    "\n",
    "# First plot a t-SNE on the input data. Precede TSNE with a PCA.\n",
    "pca = PCA(n_components=50)\n",
    "pca_values = pca.fit_transform(rates_X.reshape([-1, np.prod(rates_X.shape[1:])]))\n",
    "tsne_model = TSNE(n_components=2, perplexity=TEST_PERPLEXITY)\n",
    "tsne_values = tsne_model.fit_transform(pca_values)\n",
    "plt.subplot(2, 2, 1)\n",
    "plot_tsne(tsne_values, rates_Y.ravel()+1, TEST_PERPLEXITY, title='Input Rates')\n",
    "\n",
    "# Let's create a version of our CNN model that goes from input to the bottleneck layer\n",
    "truncated_model = tf.keras.Model(model.input, [model.layers[7].output,\n",
    "                                               model.get_layer('latent').output,\n",
    "                                               model.layers[-6].output])\n",
    "rates = []\n",
    "latents = []\n",
    "recon_rates = []\n",
    "for start_ix in range(0, X.shape[0], tbs):\n",
    "    temp = X[start_ix:start_ix+tbs, MAX_OFFSET:, :].astype(np.float32)[:, :, :, None]\n",
    "    _rates, _latents, _recon_rates = truncated_model(temp)\n",
    "    rates.append(_rates)\n",
    "    latents.append(_latents)\n",
    "    recon_rates.append(_recon_rates)\n",
    "    \n",
    "rates = tf.concat(rates, 0).numpy()\n",
    "latents = tf.concat(latents, 0).numpy()\n",
    "recon_rates = tf.concat(recon_rates, 0).numpy()\n",
    "tf.keras.backend.clear_session()\n",
    "\n",
    "flattened_rates = rates.reshape([-1, np.prod(rates.shape[1:])])\n",
    "flattened_latents = latents.reshape([-1, np.prod(latents.shape[1:])])\n",
    "flattened_recon_rates = recon_rates.reshape([-1, np.prod(recon_rates.shape[1:])])\n",
    "\n",
    "# Model Rates\n",
    "pca = PCA(n_components=50)\n",
    "pca_values = pca.fit_transform(flattened_rates)\n",
    "tsne_model = TSNE(n_components=2, perplexity=TEST_PERPLEXITY)\n",
    "tsne_values = tsne_model.fit_transform(pca_values)\n",
    "plt.subplot(2, 2, 2)\n",
    "plot_tsne(tsne_values, Y.ravel()+1, TEST_PERPLEXITY, title='Model Features')\n",
    "\n",
    "# Model Latents\n",
    "tsne_model = TSNE(n_components=2, perplexity=TEST_PERPLEXITY)\n",
    "tsne_values = tsne_model.fit_transform(flattened_latents)\n",
    "plt.subplot(2, 2, 3)\n",
    "plot_tsne(tsne_values, Y.ravel()+1, TEST_PERPLEXITY, title='Model Latents')\n",
    "\n",
    "# Recon Rates\n",
    "tsne_model = TSNE(n_components=2, perplexity=TEST_PERPLEXITY)\n",
    "tsne_values = tsne_model.fit_transform(flattened_recon_rates)\n",
    "plt.subplot(2, 2, 4)\n",
    "plot_tsne(tsne_values, Y.ravel()+1, TEST_PERPLEXITY, title='Recon Features')\n",
    "\n",
    "plt.tight_layout()\n",
    "plt.show()\n",
    "\n",
    "fig.savefig(str(datadir / (SESS_ID + '_CNN_tSNE.png')))"
   ]
  },
  {
   "cell_type": "markdown",
   "metadata": {
    "colab_type": "text",
    "id": "kDmmBuQhDXMW"
   },
   "source": [
    "t-SNE on the untransformed data shows two different clusters for blue/magenta trial pairs.\n",
    "These probably came at two different blocks of time, between which there was a change in the neural activations.\n",
    "After transforming the data, these classes are grouped together."
   ]
  },
  {
   "cell_type": "code",
   "execution_count": null,
   "metadata": {
    "colab": {},
    "colab_type": "code",
    "id": "rR6yFVabyK5G",
    "outputId": "881fc520-fcfe-415c-f0e3-f378606ea919"
   },
   "outputs": [],
   "source": [
    "fig = plt.figure(figsize=(9, 6))\n",
    "\n",
    "plt.subplot(2, 2, 1)\n",
    "chan_ix = 31  # 4\n",
    "_X = rates_X\n",
    "for class_ix in range(8):\n",
    "    b_class = rates_Y[:, 0] == class_ix\n",
    "    mean_rates = np.squeeze(np.mean(_X[b_class], axis=0))\n",
    "    plt.plot(mean_rates[:, chan_ix], color=class_colors[class_ix])\n",
    "plt.title('Smoothed Rates')\n",
    "\n",
    "plt.subplot(2, 2, 2)\n",
    "chan_ix = -4  # 4\n",
    "_X = rates\n",
    "for class_ix in range(8):\n",
    "    b_class = rates_Y[:, 0] == class_ix\n",
    "    mean_rates = np.squeeze(np.mean(_X[b_class], axis=0))\n",
    "    plt.plot(mean_rates[:, chan_ix], color=class_colors[class_ix])\n",
    "plt.title('Convolved Spikes')\n",
    "\n",
    "plt.subplot(2, 2, 4)\n",
    "chan_ix = -4  # 4\n",
    "_X = recon_rates\n",
    "for class_ix in range(8):\n",
    "    b_class = rates_Y[:, 0] == class_ix\n",
    "    mean_rates = np.squeeze(np.mean(_X[b_class], axis=0))\n",
    "    plt.plot(mean_rates[:, chan_ix], color=class_colors[class_ix])\n",
    "plt.title('Recon Features')\n",
    "\n",
    "plt.tight_layout()\n",
    "\n",
    "fig.savefig(str(datadir / (SESS_ID + '_example_rates.png')))"
   ]
  },
  {
   "cell_type": "code",
   "execution_count": null,
   "metadata": {
    "colab": {},
    "colab_type": "code",
    "id": "BNFyDPtJyK5J",
    "outputId": "1198d814-bf4a-4c47-81c6-83cb4b91d49f"
   },
   "outputs": [],
   "source": [
    "import tensortools as tt\n",
    "\n",
    "U = tt.cp_als(np.squeeze(rates_X), rank=3, verbose=True)\n",
    "fig, ax, po = tt.plot_factors(U.factors, plots=['scatter', 'line', 'bar'], figsize=(9, 6))"
   ]
  },
  {
   "cell_type": "code",
   "execution_count": null,
   "metadata": {
    "colab": {},
    "colab_type": "code",
    "id": "sPdNZyvhyK5L",
    "outputId": "4a614428-c061-42f2-8c88-9c9187ebfc77"
   },
   "outputs": [],
   "source": [
    "U = tt.cp_als(np.squeeze(rates), rank=3, verbose=True)\n",
    "fig, ax, po = tt.plot_factors(U.factors, plots=['scatter', 'line', 'bar'], figsize=(9, 6))"
   ]
  },
  {
   "cell_type": "markdown",
   "metadata": {
    "colab_type": "text",
    "id": "W9phPPaaDXMW"
   },
   "source": [
    "### First convolutional layers\n",
    "The first pair of convolutional layers are simply performing time-domain convolutions on the spike trains.\n",
    "Whereas a typically signal processing pipeline will apply a gaussian, exponentional, or gamma kernel convolution,\n",
    "here we train the convolution kernels directly. There are separate \"short\" kernels and \"long\" kernels."
   ]
  },
  {
   "cell_type": "code",
   "execution_count": null,
   "metadata": {
    "colab": {
     "base_uri": "https://localhost:8080/",
     "height": 217
    },
    "colab_type": "code",
    "id": "L3N1Wr6TlnJM",
    "outputId": "aa508731-0c5d-411c-9ae2-7dcea4f6f2c3"
   },
   "outputs": [],
   "source": [
    "import scipy.signal\n",
    "\n",
    "fig = plt.figure(figsize=(12, 12))\n",
    "t = ax_info['timestamps']\n",
    "\n",
    "x_ranges = [[-0.02, 0.02], [-0.2, 0.2]]\n",
    "y_steps = [1.0, 0.5]\n",
    "\n",
    "impulse = np.zeros_like(t)\n",
    "impulse[np.argmin(np.abs(t))] = 1.0\n",
    "\n",
    "step = np.zeros_like(t)\n",
    "step[np.argmin(np.abs(t)):] = 1.0\n",
    "\n",
    "for s_l in range(2):\n",
    "    filters = np.squeeze(model.layers[1 + s_l].get_weights()[0])\n",
    "\n",
    "    # Impulse response\n",
    "    plt.subplot(2, 3, 1 + 3*s_l)\n",
    "    for filt_ix, filt_coeff in enumerate(filters.T):\n",
    "        imp_conv = scipy.signal.convolve(impulse, filt_coeff, 'same')\n",
    "        plt.plot(t, imp_conv - y_steps[s_l]*filt_ix)\n",
    "    plt.xlim(x_ranges[s_l])\n",
    "    plt.xlabel('Time (s)')\n",
    "    plt.title('Impulse Response')\n",
    "\n",
    "    # Step response\n",
    "    plt.subplot(2, 3, 2 + 3*s_l)\n",
    "    for filt_ix, filt_coeff in enumerate(filters.T):\n",
    "        step_response = scipy.signal.convolve(step, filt_coeff, 'same')\n",
    "        plt.plot(t, step_response - y_steps[s_l]*filt_ix)\n",
    "    plt.xlim(x_ranges[s_l])\n",
    "    plt.xlabel('Time (s)')\n",
    "    plt.title('Step Response')\n",
    "\n",
    "    plt.subplot(2, 3, 3 + 3*s_l)\n",
    "    for filt_ix, filt_coeff in enumerate(filters.T):\n",
    "        f, resp = scipy.signal.freqz(filt_coeff, worN=int(ax_info['fs']), fs=ax_info['fs'])\n",
    "        plt.plot(f, np.abs(resp) - filt_ix)\n",
    "    plt.xlabel('Frequency (Hz)')\n",
    "    plt.title('Frequency Response')\n",
    "\n",
    "plt.tight_layout()"
   ]
  },
  {
   "cell_type": "markdown",
   "metadata": {
    "colab_type": "text",
    "id": "JJZMvmq6nHvy"
   },
   "source": [
    "### Spatial filter\n",
    "The second convolutional layer in our model is a set of spatial filters. We can visualize the weights that transform the 32-channel inputs to D*n_temporal_filter features."
   ]
  },
  {
   "cell_type": "code",
   "execution_count": null,
   "metadata": {
    "colab": {
     "base_uri": "https://localhost:8080/",
     "height": 441
    },
    "colab_type": "code",
    "id": "EiDxz6VAlnJH",
    "outputId": "07f99cdc-c8a0-49a9-ee51-0509ffa00415"
   },
   "outputs": [],
   "source": [
    "LAYER_IX = 4\n",
    "spatial_filter = np.squeeze(model.layers[LAYER_IX].get_weights()[0])\n",
    "D = spatial_filter.shape[-1]\n",
    "sp_cols = int(np.ceil(np.sqrt(D + 2)))\n",
    "sp_rows = int(np.ceil((D + 2) / sp_cols))\n",
    "vmax=abs(spatial_filter).max()\n",
    "vmin=-abs(spatial_filter).max()\n",
    "fig = plt.figure(figsize=(12, 12))\n",
    "for depth_ix in range(D):\n",
    "    plt.subplot(sp_rows, sp_cols, depth_ix + 1)\n",
    "    plt.imshow(spatial_filter[:, :, depth_ix], vmax=vmax, vmin=vmin, cmap=turbo_cmap)\n",
    "    plt.title('Spatial Filter Set {}'.format(depth_ix))\n",
    "    plt.xlabel('Temporal Filter')\n",
    "    plt.ylabel('Input Channel')\n",
    "# plt.colorbar()\n",
    "\n",
    "sum_abs_weight = np.sum(np.sum(np.abs(spatial_filter), axis=1), axis=-1)\n",
    "plt.subplot(sp_rows, sp_cols, D + 1)\n",
    "plt.hist(sum_abs_weight, 20)\n",
    "plt.xlabel('Sum Abs Weight')\n",
    "plt.ylabel('Count')\n",
    "plt.title('Chan Sum Abs. Weight')\n",
    "\n",
    "plt.subplot(sp_rows, sp_cols, D + 2)\n",
    "plt.bar(np.arange(spatial_filter.shape[0]), sum_abs_weight)\n",
    "plt.xlabel('Channel ID')\n",
    "plt.ylabel('Sum Abs Weight')\n",
    "\n",
    "plt.tight_layout()\n",
    "plt.show()\n",
    "\n",
    "fig.savefig(str(datadir / (SESS_ID + '_CNN_SpatFilts.png')))\n",
    "\n",
    "ch_ids = np.argsort(sum_abs_weight)[::-1]  # channel_ids sorted by weight, descending"
   ]
  },
  {
   "cell_type": "markdown",
   "metadata": {
    "colab_type": "text",
    "id": "FZPM-zZqlnJJ"
   },
   "source": [
    "There seems to be a small group of channels with large weights, another group with intermediate weights, and finally the rest of the channels with low weights."
   ]
  },
  {
   "cell_type": "markdown",
   "metadata": {
    "colab_type": "text",
    "id": "Xf6zecPslnJS"
   },
   "source": [
    "## Filter Activation-Maximizing Inputs\n",
    "\n",
    "One useful way to understand what a convolutional layer is doing, especially for deeper layers that are combining abstract features, is to visualize an input that would maximize activation of a filter(s) within the layer.\n",
    "\n",
    "Remembering back to the step-by-step neural net in 02_02, we found the _weights_ that _minimized_ a loss function for a given set of _inputs_. Now we know the weights but we want to find the inputs that _maximize_ the activation (a.k.a. output) of a filter. We're going to use the same loss-minimization training framework, but instead of calculating a 'loss', we will calculate the mean of the output of the layer and filter of interest.\n",
    "\n",
    "We start with a random input and call the model on the input while recording with GradientTape. Then, instead of using our gradients to 'optimize loss' (i.e., step the weights down the gradients), we use our gradients to maximize output (i.e., step the input up the gradients)."
   ]
  },
  {
   "cell_type": "code",
   "execution_count": null,
   "metadata": {
    "colab": {},
    "colab_type": "code",
    "id": "8ht1hcxB3bGU"
   },
   "outputs": [],
   "source": [
    "from tensorflow.keras import backend as K\n",
    "\n",
    "def plot_layer(layer_ix, max_filts=None, n_steps=100):\n",
    "    in_shape = [1] + model.input.shape.as_list()[1:]\n",
    "    \n",
    "    layer_output = model.layers[layer_ix].output\n",
    "    n_filts = layer_output.shape[-1]\n",
    "    filt_ids = np.arange(n_filts)\n",
    "    if (max_filts is not None) and (len(filt_ids) > max_filts):\n",
    "        filt_ids = filt_ids[np.argsort(np.random.rand(n_filts))][:max_filts]\n",
    "    \n",
    "    fig = plt.figure(figsize=(12, 12), facecolor='white')\n",
    "    sp_cols = int(np.ceil(np.sqrt(len(filt_ids))))\n",
    "    sp_rows = int(np.ceil(len(filt_ids) / sp_cols))\n",
    "    \n",
    "    filt_slice = [np.s_[:] for _ in range(K.ndim(layer_output))]\n",
    "    \n",
    "    for ix, filt_ix in enumerate(filt_ids):\n",
    "        input_data = tf.convert_to_tensor(np.random.randn(*in_shape).astype(np.float32))\n",
    "        if layer_ix > (len(model.layers) - 3):\n",
    "            # model.layers[layer_ix].activation == tf.keras.activations.softmax:\n",
    "            max_model = tf.keras.Model(model.input, layer_output)\n",
    "            non_targ_id = tf.constant(np.setdiff1d(np.arange(layer_output.shape[-1], dtype=int), filt_ix))\n",
    "            for step_ix in range(n_steps):\n",
    "                with tf.GradientTape() as tape:\n",
    "                    tape.watch(input_data)\n",
    "                    filter_act = max_model(input_data)\n",
    "                    targ_act = filter_act[0, filt_ix]\n",
    "                    nontarg_act = K.mean(tf.gather(filter_act, non_targ_id, axis=-1))\n",
    "                    loss_value = targ_act - nontarg_act\n",
    "                grads = tape.gradient(loss_value, input_data)  # Derivative of loss w.r.t. input\n",
    "                # Normalize gradients\n",
    "                grads /= (K.sqrt(K.mean(K.square(grads))) + K.epsilon())\n",
    "                input_data += grads\n",
    "        else:\n",
    "            filt_slice[-1] = filt_ix\n",
    "            max_model = tf.keras.Model(model.input, layer_output[tuple(filt_slice)])\n",
    "            for step_ix in range(n_steps):\n",
    "                with tf.GradientTape() as tape:\n",
    "                    tape.watch(input_data)\n",
    "                    filter_act = max_model(input_data)\n",
    "                    loss_value = K.mean(filter_act)\n",
    "                grads = tape.gradient(loss_value, input_data)  # Derivative of loss w.r.t. input\n",
    "                # Normalize gradients\n",
    "                grads /= (K.sqrt(K.mean(K.square(grads))) + K.epsilon())\n",
    "                input_data += grads\n",
    "        input_data = np.squeeze(input_data)\n",
    "\n",
    "        plt.subplot(sp_rows, sp_cols, ix + 1)\n",
    "        plt.plot(t[MAX_OFFSET:], input_data[:, ch_ids[:4]])\n",
    "        plt.xlabel('Time After Target Onset (s)')\n",
    "        plt.ylabel('Filter {}'.format(filt_ix))\n",
    "        plt.title('Output {:.2f}'.format(loss_value.numpy()))\n",
    "        for xx in [0, 0.25, 1.25]:\n",
    "            plt.axvline(xx, color='k', linestyle='--')\n",
    "        \n",
    "    plt.tight_layout()"
   ]
  },
  {
   "cell_type": "code",
   "execution_count": null,
   "metadata": {
    "colab": {},
    "colab_type": "code",
    "id": "VhIOqfs6DXMo"
   },
   "outputs": [],
   "source": [
    "# 4 is DepthwiseConv2D, 9 is SeparableConv2D\n",
    "plot_layer(9, max_filts=9)"
   ]
  },
  {
   "cell_type": "markdown",
   "metadata": {
    "colab_type": "text",
    "id": "zdRX_aCLDV_8"
   },
   "source": [
    "### Class Maximizing Inputs\n",
    "If we extend our reasoning from filter activations down to the next-to-last layer (15), and we choose a 'loss' that maximizes one class, we can plot maximization signals for each of the 8 output classes. If we were to do the same on the final Softmax layer (16), the results have a similar shape but are quite noisy because perfect classification is achieved quickly and thus there is no more gradient."
   ]
  },
  {
   "cell_type": "code",
   "execution_count": null,
   "metadata": {
    "colab": {},
    "colab_type": "code",
    "id": "oa4g1B8ZDXMs"
   },
   "outputs": [],
   "source": [
    "plot_layer(15, n_steps=100)"
   ]
  },
  {
   "cell_type": "markdown",
   "metadata": {
    "colab_type": "text",
    "id": "HPwFVrYEr8wx",
    "pycharm": {
     "name": "#%% md\n"
    }
   },
   "source": [
    "## Saliency Maps\n",
    "Saliency maps visualize how each part of a real input contributes to the loss."
   ]
  },
  {
   "cell_type": "code",
   "execution_count": null,
   "metadata": {
    "colab": {},
    "colab_type": "code",
    "id": "A_hlqlOWr4Ap"
   },
   "outputs": [],
   "source": [
    "from tensorflow.keras import backend as K\n",
    "def get_losses_for_class(test_class):\n",
    "    classes, y = np.unique(Y, return_inverse=True)\n",
    "    trial_ids = np.where(y == classes.tolist().index(test_class))[0]\n",
    "    losses_grads = []\n",
    "    for tr_id in trial_ids:\n",
    "        input_data = tf.convert_to_tensor(X[tr_id, MAX_OFFSET:, :].astype(np.float32)[None, :, :, None])\n",
    "        with tf.GradientTape() as tape:\n",
    "            tape.watch(input_data)\n",
    "            class_proba = model(input_data)\n",
    "            loss_value = K.sparse_categorical_crossentropy(y[tr_id], class_proba)\n",
    "        grads = tape.gradient(loss_value, input_data)  # Derivative of loss w.r.t. input\n",
    "        # Normalize gradients\n",
    "        grads /= (K.sqrt(K.mean(K.square(grads))) + K.epsilon())\n",
    "        losses_grads.append((loss_value, grads))\n",
    "    return losses_grads"
   ]
  },
  {
   "cell_type": "code",
   "execution_count": null,
   "metadata": {
    "colab": {},
    "colab_type": "code",
    "id": "wtqESwBb2z4O"
   },
   "outputs": [],
   "source": [
    "# Plot saliency image for a few trials in a particular class\n",
    "N_SALIENCY_TRIALS = 3\n",
    "TEST_CLASS = 5  # -1 to 6\n",
    "losses_grads = get_losses_for_class(TEST_CLASS)\n",
    "t = ax_info['timestamps'][MAX_OFFSET:]\n",
    "t0_ix = [np.argmin(np.abs(t - _)) for _ in [0, 0.25, 1.25]]\n",
    "\n",
    "loss_vals = [_[0][0].numpy() for _ in losses_grads]\n",
    "grad_vals = np.squeeze(np.concatenate([_[1].numpy() for _ in losses_grads], axis=0))\n",
    "re_ix = np.argsort(loss_vals)\n",
    "b_class = np.squeeze(Y == TEST_CLASS)\n",
    "_x = X[b_class, MAX_OFFSET:][re_ix][:N_SALIENCY_TRIALS]\n",
    "_masks = grad_vals[re_ix][:N_SALIENCY_TRIALS]\n",
    "\n",
    "fig = plt.figure(figsize=(8, 6), facecolor='white')\n",
    "for tr_ix in range(N_SALIENCY_TRIALS):\n",
    "    plt.subplot(N_SALIENCY_TRIALS, 1, tr_ix + 1)\n",
    "    plt.imshow(_masks[tr_ix].T, aspect='auto', interpolation='none', vmin=-4, vmax=4, cmap=turbo_cmap)\n",
    "    plt.eventplot([np.where(_)[0] for _ in _x[tr_ix].T], colors='k')\n",
    "    for _t in t0_ix:\n",
    "        plt.axvline(_t)\n",
    "plt.xlabel('Sample')\n",
    "plt.ylabel('Channel ID')\n",
    "plt.tight_layout()"
   ]
  },
  {
   "cell_type": "code",
   "execution_count": null,
   "metadata": {
    "colab": {},
    "colab_type": "code",
    "id": "P4oo8if9DXM3"
   },
   "outputs": [],
   "source": [
    "# Plot average saliencies for all trials within each class\n",
    "t = ax_info['timestamps'][MAX_OFFSET:]\n",
    "t0_ix = [np.argmin(np.abs(t - _)) for _ in [0, 0.25, 1.25]]\n",
    "\n",
    "fig = plt.figure(figsize=(12, 18), facecolor='white')\n",
    "\n",
    "for ix, class_id in enumerate(np.unique(Y)):\n",
    "    losses_grads = get_losses_for_class(class_id)\n",
    "    loss_vals = [_[0][0].numpy() for _ in losses_grads]\n",
    "    grad_vals = np.squeeze(np.concatenate([_[1].numpy() for _ in losses_grads], axis=0))\n",
    "    grad_vals = np.mean(grad_vals, axis=0)\n",
    "    plot_ix = 2 * ix + 1 * (ix < 4) - 6 * (ix >= 4)\n",
    "    plt.subplot(4, 2, plot_ix)\n",
    "    plt.imshow(grad_vals.T, aspect='auto', interpolation='none', vmin=-4, vmax=4, cmap=turbo_cmap)\n",
    "    for _t in t0_ix:\n",
    "        plt.axvline(_t)\n",
    "    plt.title(str(class_id))\n",
    "    if (ix + 1) % 4 == 0:\n",
    "        plt.xlabel('Sample')\n",
    "    if ix < 4:\n",
    "        plt.ylabel('Channel')\n",
    "plt.tight_layout()"
   ]
  },
  {
   "cell_type": "markdown",
   "metadata": {
    "colab_type": "text",
    "id": "pDma3biLn9Q8"
   },
   "source": [
    "## Class Activation Maps\n",
    "\n",
    "Class activation maps (CAM) highlight the parts of the input that contribute most to each classification score. This is similar but different to saliency mapping. Whereas in saliency mapping the losses are back-propagated all the way back to the inputs, in CAM (or [Grad-CAM](https://arxiv.org/pdf/1610.02391.pdf)) the per-class scores / losses are propaged backward only to the last convolutional layer. These losses are then used as the weights in a weighted average of the feature map output of the last convolutional layer. If the result is smaller than the input, it is then interpolated to match the input size.\n",
    "\n",
    "Remember that in image classification the data have width pixels x height pixels x colour depths, but in our neural time-series data we have time samples x 1 x electrodes. We could use CAM on our timeseries data to identify which time points are important for each class but not channels because CAM averages across 'depth'. Time-point importance is unlikely to be informative in this dataset because it is unlikely that the timing of processing visual cues and creating motor plans is class-dependent, especially not at the time scales of the final convolution output (~100 msec).\n",
    "\n",
    "To get any information about which channels of the input were important, we would have to project the losses back to before the spatial filter layer (`DepthwiseConv2D`)."
   ]
  },
  {
   "cell_type": "markdown",
   "metadata": {
    "colab_type": "text",
    "id": "wQ4aT56PDXM6"
   },
   "source": [
    "TODO: Cluster channels based on cross-correlations of per-trial saliency maps."
   ]
  },
  {
   "cell_type": "markdown",
   "metadata": {
    "colab_type": "text",
    "id": "zPeKW5nTDXM6"
   },
   "source": [
    "# Hyperparameter Optimization\n",
    "\n",
    "Our model had many hyperparameters. Here we search for their optimal values."
   ]
  },
  {
   "cell_type": "code",
   "execution_count": null,
   "metadata": {
    "colab": {},
    "colab_type": "code",
    "id": "lPqWEUKRDXM7"
   },
   "outputs": [],
   "source": [
    "from sklearn.model_selection import StratifiedShuffleSplit\n",
    "P_TRAIN = 0.8\n",
    "\n",
    "def evaluate_model(params, verbose=0):\n",
    "    print(params)\n",
    "    k_spike_short = params.get('k_spike_short', 10)\n",
    "    l_spike_short = params.get('l_spike_short', 22)\n",
    "    k_spike_long = params.get('k_spike_long', 4)\n",
    "    l_spike_long = params.get('l_spike_long', 200)\n",
    "    D = params.get('D', 4)\n",
    "    downsamp_1 = params.get('downsamp_1', 5)\n",
    "    n_pointwise_filters = params.get('n_pointwise_filters', 38)\n",
    "    kern_length_2 = params.get('kern_length_2', 40)\n",
    "    downsamp_2 = params.get('downsamp_2', 8)\n",
    "    norm_rate = params.get('norm_rate', 0.3)\n",
    "    dropout_rate = params.get('dropout_rate', 0.3)\n",
    "    latent_dim = params.get('latent_dim', 10)\n",
    "    gamma = params.get('gamma', 1.0)\n",
    "    window_scale = params.get('window_scale', 1.0)\n",
    "    l1_reg = params.get('l1_reg', 0.0002)\n",
    "    l2_reg = params.get('l2_reg', 0.0002)\n",
    "    epochs = params.get('epochs', 80)\n",
    "    \n",
    "    # Get the training/testing data for this split.\n",
    "    sss = StratifiedShuffleSplit(n_splits=1, train_size=P_TRAIN, random_state=123)\n",
    "    trn, tst = next(sss.split(X, Y))\n",
    "    ds_train, ds_valid, n_train = get_ds_train_valid(X, Y, trn, tst, batch_size=BATCH_SIZE, max_offset=MAX_OFFSET)\n",
    "    \n",
    "    tf.keras.backend.clear_session()\n",
    "    model = make_model(X.shape[1], X.shape[2], aug_offset=MAX_OFFSET,\n",
    "                       k_spike_short=k_spike_short, l_spike_short=l_spike_short,\n",
    "                       k_spike_long=k_spike_long, l_spike_long=l_spike_long,\n",
    "                       D=D,\n",
    "                       n_pointwise_filters=n_pointwise_filters, kern_length_2=kern_length_2, downsamp_2=downsamp_2,\n",
    "                       norm_rate=norm_rate, dropout_rate=dropout_rate, l2_reg=l2_reg)\n",
    "    model.compile(loss='sparse_categorical_crossentropy', optimizer='Nadam', metrics=['accuracy'])\n",
    "    \n",
    "    history = model.fit(x=ds_train, epochs=epochs, validation_data=ds_valid, verbose=verbose)\n",
    "    max_val_acc = max(history.history['val_accuracy'])\n",
    "    print(\"Max validation accuracy with these parameters: {}\".format(max_val_acc))\n",
    "    \n",
    "    tf.keras.backend.clear_session()\n",
    "    \n",
    "    return -max_val_acc"
   ]
  },
  {
   "cell_type": "code",
   "execution_count": null,
   "metadata": {
    "colab": {},
    "colab_type": "code",
    "id": "LSrG9mOZDXM9"
   },
   "outputs": [],
   "source": [
    "from hyperopt import fmin, hp, Trials, tpe, STATUS_OK\n",
    "from hyperopt.pyll import scope\n",
    "\n",
    "trials = None\n",
    "hyperoptBest = None\n",
    "del trials\n",
    "del hyperoptBest\n",
    "\n",
    "space = {\n",
    "#     'k_spike_short': scope.int(hp.quniform('k_spike_short', 1, 15, 1)),\n",
    "#     'l_spike_short': scope.int(hp.quniform('l_spike_short', 8, 50, 2)),\n",
    "    'k_spike_long': scope.int(hp.quniform('k_spike_long', 1, 15, 1)),\n",
    "#     'l_spike_long': scope.int(hp.quniform('l_spike_long', 60, 250, 5)),\n",
    "#     'D': scope.int(hp.quniform('D', 1, 12, 1)),\n",
    "#     'downsamp_1': scope.int(hp.quniform('downsamp_1', 4, 10, 1)),\n",
    "#     'n_pointwise_filters': scope.int(hp.quniform('n_pointwise_filters', 2, 65, 1)),\n",
    "#     'kern_length_2': scope.int(hp.quniform('kern_length_2', 4, 64, 1)),\n",
    "#     'downsamp_2': scope.int(hp.quniform('downsamp_2', 2, 9, 1)),\n",
    "#     'norm_rate': hp.uniform('norm_rate', 0., 0.5),\n",
    "#     'dropout_rate': hp.uniform('dropout_rate', 0., 0.5),\n",
    "#     '12_reg': hp.loguniform('l1_reg', np.log(0.000001), np.log(1.0)),\n",
    "#     'l2_reg': hp.loguniform('l2_reg', np.log(0.000001), np.log(1.0)),\n",
    "#     'epochs': scope.int(hp.quniform('epochs', 60, 300, 20)),\n",
    "    'latent_dim': scope.int(hp.quniform('latent_dim', 5, 50, 5)),\n",
    "    'gamma': hp.loguniform('gamma', np.log(1e-4), np.log(100)),\n",
    "    'window_scale': hp.loguniform('window_scale', np.log(1e-4), np.log(100))\n",
    "}    \n",
    "\n",
    "trials = Trials()  # object that holds iteration results\n",
    "#Do optimization\n",
    "eval_hours = 5.\n",
    "minutes_per_eval = 2.5\n",
    "max_evals = int(eval_hours * 60 / minutes_per_eval)\n",
    "hyperoptBest = fmin(evaluate_model, space, algo=tpe.suggest, max_evals=max_evals, trials=trials)\n",
    "print(\"Best Acc: {}\".format(-trials.best_trial['result']['loss']))\n",
    "print(\"Best Parameters: {}\".format(hyperoptBest))"
   ]
  },
  {
   "cell_type": "code",
   "execution_count": null,
   "metadata": {
    "colab": {},
    "colab_type": "code",
    "id": "G6YAMqGADXNA"
   },
   "outputs": [],
   "source": [
    "def scatterplot_matrix_colored(params_names, params_values, best_losses,\n",
    "                               alpha=0.3, minmax='min'):\n",
    "    \"\"\"Scatterplot colored according to the Z values of the points.\"\"\"\n",
    "    import matplotlib\n",
    "    \n",
    "    nb_params = len(params_values)\n",
    "    \n",
    "    best_losses = np.array(best_losses)\n",
    "    if minmax == 'min':\n",
    "        best_trial = np.argmin(best_losses)\n",
    "    else:\n",
    "        best_trial = np.argmax(best_losses)\n",
    "        \n",
    "    norm = matplotlib.colors.Normalize(vmin=best_losses.min(), vmax=best_losses.max())\n",
    "    \n",
    "    fig, ax = plt.subplots(nb_params, nb_params, figsize=(16, 16))\n",
    "    \n",
    "    for i in range(nb_params):\n",
    "        p1 = params_values[i]\n",
    "        for j in range(nb_params):\n",
    "            p2 = params_values[j]\n",
    "            \n",
    "            axes = ax[i, j]\n",
    "            \n",
    "            axes.axvline(p2[best_trial], color='r', zorder=-1, alpha=0.3)\n",
    "            axes.axhline(p1[best_trial], color='r', zorder=-1, alpha=0.3)\n",
    "                \n",
    "            # Subplot:\n",
    "            s = axes.scatter(p2, p1, s=30, alpha=alpha,\n",
    "                             c=best_losses, cmap=turbo_cmap, norm=norm)\n",
    "\n",
    "            # Labels only on side subplots, for x and y:\n",
    "            if j == 0:\n",
    "                axes.set_ylabel(params_names[i], rotation=0)\n",
    "            else:\n",
    "                axes.set_yticks([])\n",
    "            \n",
    "            if i == nb_params - 1:\n",
    "                axes.set_xlabel(params_names[j], rotation=90)\n",
    "            else:\n",
    "                axes.set_xticks([])\n",
    "\n",
    "    fig.subplots_adjust(right=0.82, top=0.95)\n",
    "    cbar_ax = fig.add_axes([0.85, 0.15, 0.05, 0.7])\n",
    "    cb = fig.colorbar(s, cax=cbar_ax)\n",
    "    \n",
    "    plt.suptitle('Scatterplot matrix of tried values in the search space over different params, colored according to best validation loss')\n",
    "    plt.show()\n",
    "\n",
    "# Prepare loss values. Maybe transform.\n",
    "hp_loss = np.array([_['result']['loss'] for _ in trials.trials])\n",
    "hp_loss = -hp_loss\n",
    "\n",
    "hp_names = list(space.keys())\n",
    "hp_vals = [[_['misc']['vals'][key][0] for _ in trials.trials] for key in hp_names]\n",
    "log_hps = [_ for _ in ['l1_reg', 'l2_reg', 'window_scale', 'gamma'] if _ in hp_names]\n",
    "for hp_name in log_hps:\n",
    "    hp_vals[hp_names.index(hp_name)] = np.log10(hp_vals[hp_names.index(hp_name)])\n",
    "\n",
    "scatterplot_matrix_colored(hp_names, hp_vals, hp_loss, minmax='max',\n",
    "                           alpha=0.8)\n",
    "print(np.max(hp_loss))"
   ]
  },
  {
   "cell_type": "code",
   "execution_count": null,
   "metadata": {
    "colab": {},
    "colab_type": "code",
    "id": "ruk6vmQwDXNC",
    "outputId": "c9ce72d2-e1ca-4e5d-e3c5-14b68064c185"
   },
   "outputs": [],
   "source": [
    "# Grouped bar plots of manually-input data.\n",
    "monkey_names = ['M', 'JL']\n",
    "data_types = ['LR\\nBaseline', 'LR\\nTargets', 'LR\\nFull', 'EEGNet\\nFull', 'LSTM\\nFull', 'EEGNet\\n& AE']\n",
    "accuracies = [[30.2, 43.4, 61.2, 72.3, 76.1, 69.9],[36.8, 46.5, 81.1, 85.4, 85.5, 82.5]]\n",
    "\n",
    "ind = np.arange(len(data_types))  # the x locations for the groups\n",
    "width = 0.35  # the width of the bars\n",
    "\n",
    "fig, ax = plt.subplots(figsize=(8, 8))\n",
    "for m_ix, m_name in enumerate(monkey_names):\n",
    "    ax.bar(ind - width/2 + m_ix * width, accuracies[m_ix], width, label=m_name)\n",
    "\n",
    "ax.set_ylabel('Accuracies (%)')\n",
    "ax.set_ylim([0, 100])\n",
    "ax.set_title('Target Prediction by Session and Model')\n",
    "ax.set_xticks(ind)\n",
    "ax.set_xticklabels(data_types)\n",
    "ax.legend()\n",
    "plt.tight_layout()\n",
    "\n",
    "fig.savefig(str(datadir / ('Acc_Bars.png')))"
   ]
  }
 ],
 "metadata": {
  "accelerator": "GPU",
  "colab": {
   "name": "03_02_CNN_faces_houses.ipynb",
   "provenance": []
  },
  "kernelspec": {
   "display_name": "Python 3",
   "language": "python",
   "name": "python3"
  },
  "language_info": {
   "codemirror_mode": {
    "name": "ipython",
    "version": 3
   },
   "file_extension": ".py",
   "mimetype": "text/x-python",
   "name": "python",
   "nbconvert_exporter": "python",
   "pygments_lexer": "ipython3",
   "version": "3.7.6"
  },
  "pycharm": {
   "stem_cell": {
    "cell_type": "raw",
    "metadata": {
     "collapsed": false
    },
    "source": []
   }
  },
  "varInspector": {
   "cols": {
    "lenName": 16,
    "lenType": 16,
    "lenVar": 40
   },
   "kernels_config": {
    "python": {
     "delete_cmd_postfix": "",
     "delete_cmd_prefix": "del ",
     "library": "var_list.py",
     "varRefreshCmd": "print(var_dic_list())"
    },
    "r": {
     "delete_cmd_postfix": ") ",
     "delete_cmd_prefix": "rm(",
     "library": "var_list.r",
     "varRefreshCmd": "cat(var_dic_list()) "
    }
   },
   "types_to_exclude": [
    "module",
    "function",
    "builtin_function_or_method",
    "instance",
    "_Feature"
   ],
   "window_display": false
  }
 },
 "nbformat": 4,
 "nbformat_minor": 1
}
